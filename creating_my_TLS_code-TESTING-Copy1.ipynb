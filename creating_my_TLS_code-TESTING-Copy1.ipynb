{
 "cells": [
  {
   "cell_type": "code",
   "execution_count": 1,
   "id": "28ba24ec",
   "metadata": {},
   "outputs": [],
   "source": [
    "import random as rd\n",
    "import astropy.io.fits as apf\n",
    "import batman\n",
    "import eleanor\n",
    "import emcee\n",
    "import getpass\n",
    "import glob\n",
    "import matplotlib as mpl\n",
    "import matplotlib.pyplot as plt\n",
    "from matplotlib.pyplot import figure\n",
    "from matplotlib.backends.backend_pdf import PdfPages\n",
    "# from multiprocessing import Pool\n",
    "# from multiprocessing import Process\n",
    "import multiprocessing\n",
    "import numpy as np\n",
    "import os\n",
    "import pandas as pd\n",
    "import shutil\n",
    "import time as tm\n",
    "from astroquery.mast import Catalogs\n",
    "import astropy.units as units\n",
    "from astropy.wcs import WCS\n",
    "import math\n",
    "import astropy.io.fits as apf\n",
    "from astropy.stats import sigma_clip\n",
    "import warnings\n",
    "warnings.filterwarnings(\"ignore\")\n",
    "from wotan import flatten\n",
    "import lightkurve as lk\n",
    "import corner\n",
    "import numpy as np\n",
    "import juliet\n",
    "import matplotlib.gridspec as gridspec\n",
    "\n",
    "from astropy.timeseries import BoxLeastSquares\n",
    "from ldtk import LDPSetCreator, BoxcarFilter, TabulatedFilter, SVOFilter\n",
    "from ldtk.filters import tess, sdss_z\n",
    "from astroquery import svo_fps\n",
    "\n",
    "import mr_forecast as mr\n",
    "import numba\n",
    "from math import floor\n",
    "from functools import partial\n"
   ]
  },
  {
   "cell_type": "code",
   "execution_count": null,
   "id": "e0211cb1",
   "metadata": {},
   "outputs": [],
   "source": []
  },
  {
   "cell_type": "code",
   "execution_count": 2,
   "id": "08998608",
   "metadata": {},
   "outputs": [
    {
     "data": {
      "text/plain": [
       "\"I'm going to go ahead and outline the steps to take:\\n1) Define output and input directories \\n2) Check to see if you have already started your search, and if so get the times in transit AND TICIDs/GAIAids\\n3) Detrend data with wotan\\n3) Get outliers for each target and create a histogram of frequent outline points. Mask them. \\n4) Save new flux+time data in fits file (if you can)\\n5) Before beginning SNR search: \\n    a) calculate CDPP\\n    b) create SNR grid, getting min rp and duration\\n    c) calc limb darkening (?)\\n6) begin SNR search\\n    a) using \""
      ]
     },
     "execution_count": 2,
     "metadata": {},
     "output_type": "execute_result"
    }
   ],
   "source": [
    "\"\"\"I'm going to go ahead and outline the steps to take:\n",
    "1) Define output and input directories \n",
    "2) Check to see if you have already started your search, and if so get the times in transit AND TICIDs/GAIAids\n",
    "3) Detrend data with wotan\n",
    "3) Get outliers for each target and create a histogram of frequent outline points. Mask them. \n",
    "4) Save new flux+time data in fits file (if you can)\n",
    "5) Before beginning SNR search: \n",
    "    a) calculate CDPP\n",
    "    b) create SNR grid, getting min rp and duration\n",
    "    c) calc limb darkening (?)\n",
    "6) begin SNR search\n",
    "    a) using \"\"\""
   ]
  },
  {
   "cell_type": "code",
   "execution_count": 3,
   "id": "39044af9",
   "metadata": {},
   "outputs": [],
   "source": [
    "RP_REFERENCE = 0.05"
   ]
  },
  {
   "cell_type": "code",
   "execution_count": 4,
   "id": "fb9f9de2",
   "metadata": {},
   "outputs": [],
   "source": [
    "\"\"\"Let's start the following cells pretending that I have \n",
    "1) detrended data\n",
    "2) sliced the LC\n",
    "3) run the periodic search and masked out periodic transits\n",
    "4) gotten a df including M_star, R_star, Teff_star, aLDC, bLDC\"\"\"\n",
    "\n",
    "\n",
    "\n",
    "\n",
    "@numba.jit(nopython=True)\n",
    "def interpolation_search(x, z):\n",
    "    n = len(x)\n",
    "#     print(n)\n",
    "    assert n > 1\n",
    "    if z < x[1] or n == 2:\n",
    "        return 0\n",
    "    elif z >= x[-2]:\n",
    "        return n - 2\n",
    "    imin = 0\n",
    "    imax = n - 1\n",
    "    while imax - imin > 1:\n",
    "        s = (z - x[imin]) / (x[imax] - x[imin])\n",
    "        j = int(imin + floor((imax - imin) * s))\n",
    "        if z >= x[j + 1]:\n",
    "            imin = j + 1\n",
    "        elif z < x[j]:\n",
    "            imax = j\n",
    "        else:\n",
    "            return j\n",
    "    return imin\n",
    "\n",
    "\n",
    "@numba.jit(nopython=True)\n",
    "def lerp(y, theta):\n",
    "    return (1 - theta) * y[..., 0] + theta * y[..., 1]\n",
    "\n",
    "\n",
    "class interp1d(object):\n",
    "    \"\"\"\n",
    "    Adapted from:\n",
    "    Fast multithreaded linear interpolation, 1D and 2D - Ver. 3.4\n",
    "    This versione: 15/06/2018\n",
    "    @author: Marco Maffezzoli, Universita Bocconi\n",
    "    http://didattica.unibocconi.it/mypage/upload/49183_20180615_035144_INTERPOLATION.PY\n",
    "    \"\"\"\n",
    "\n",
    "    def __init__(self, x_new, x):\n",
    "        (self._index, self._theta) = self._locate(x_new, x)\n",
    "        \n",
    "    @staticmethod\n",
    "    @numba.guvectorize(\"(i8[:],f8[:],f8[:],f8[:])\", \"(m),(m),(n)->(m)\")\n",
    "    def _linear(index, theta, y, y_new):\n",
    "        for (j, (i, t)) in enumerate(zip(index, theta)):\n",
    "            y_new[j] = lerp(y[i : i + 2], t)\n",
    "\n",
    "    def __call__(self, y):\n",
    "        return self._linear(self._index, self._theta, y)\n",
    "\n",
    "    @numba.guvectorize(\"(f8[:],f8[:],i8[:],f8[:])\", \"(),(n)->(),()\")\n",
    "    def _locate(x_new, x, index, theta =[]):\n",
    "        index[0] = i = interpolation_search(x, x_new[0])\n",
    "        theta[0] = (x_new[0] - x[i]) / (x[i + 1] - x[i])"
   ]
  },
  {
   "cell_type": "code",
   "execution_count": 5,
   "id": "1bbf1c54",
   "metadata": {},
   "outputs": [],
   "source": [
    "TICIDs_to_try = [70899085,\n",
    "150428135,\n",
    "219175972,\n",
    "259377017,\n",
    "259377017,\n",
    "307210830,\n",
    "307210830]\n",
    "\n",
    "\n"
   ]
  },
  {
   "cell_type": "code",
   "execution_count": 6,
   "id": "3556131f",
   "metadata": {},
   "outputs": [],
   "source": [
    "###DEFAULTS\n",
    "\n",
    "DURATIONS = np.array(range(2, 25))*30.\n",
    "MAXWIDTH_IN_SAMPLES = 24\n",
    "len(DURATIONS)\n",
    "RP_REFERENCE = 0.05\n",
    "T0_FIT_MARGIN = 0.01\n",
    "TRANSIT_DEPTH_MIN = 2.5 * 10 ** -6  # 10 ppm\n",
    "SIGNAL_DEPTH = 0.5\n"
   ]
  },
  {
   "cell_type": "code",
   "execution_count": 7,
   "id": "66addfe1",
   "metadata": {},
   "outputs": [
    {
     "data": {
      "text/plain": [
       "613.9572686602263"
      ]
     },
     "execution_count": 7,
     "metadata": {},
     "output_type": "execute_result"
    }
   ],
   "source": [
    "(1/109.076/0.37)**2 * ( 10 ** 6)"
   ]
  },
  {
   "cell_type": "code",
   "execution_count": 8,
   "id": "0062b530",
   "metadata": {},
   "outputs": [],
   "source": [
    "epochs_big = np.array(list(range(-500, 500)))\n",
    "\n",
    "\n",
    "Toi904_Tdur_p1 = 2.90770240441174\n",
    "Toi904_T0_p1   = 2459366.628641-2457000\n",
    "Toi904_per_p1  = 10.877\n",
    "epochs_Toi904_p1   = Toi904_T0_p1+(epochs_big*Toi904_per_p1)\n",
    "\n",
    "Toi904_Tdur_p2 = 5.081\n",
    "Toi904_T0_p2   = 2459386.3-2457000\n",
    "Toi904_per_p2  =83.9996075\n",
    "epochs_Toi904_p2   = Toi904_T0_p2+(epochs_big*Toi904_per_p2)\n",
    "\n",
    "\n",
    "Toi904_Tdur = [Toi904_Tdur_p1, Toi904_Tdur_p2]#, Toi904_Tdur_p4]\n",
    "Toi904_T0 = [Toi904_T0_p1, Toi904_T0_p2]#, Toi904_T0_p4]\n",
    "Toi904_per = [Toi904_per_p1, Toi904_per_p2]#, Toi904_per_p4]\n",
    "\n",
    "epochs_Toi904 = [epochs_Toi904_p1, epochs_Toi904_p2]#, epochs_Toi904_p4]"
   ]
  },
  {
   "cell_type": "code",
   "execution_count": 9,
   "id": "2b5de646",
   "metadata": {},
   "outputs": [],
   "source": [
    "# TICID = 259377017\n",
    "# Toi270_Tdur_p1 = 1.66317\n",
    "# Toi270_T0_p1   = 2198.96\n",
    "# Toi270_per_p1  = 5.66057\n",
    "# epochs_Toi270_p1   = Toi270_T0_p1+(epochs_big*Toi270_per_p1)\n",
    "\n",
    "# Toi270_Tdur_p2 = 2.23503\n",
    "# Toi270_T0_p2   = 1389.68\n",
    "# Toi270_per_p2  = 11.3796\n",
    "# epochs_Toi270_p2   = Toi270_T0_p2+(epochs_big*Toi270_per_p2)\n",
    "\n",
    "# Toi270_Tdur_p3 = 1.41324\n",
    "# Toi270_T0_p3   = 1383.73\n",
    "# Toi270_per_p3  = 3.36014\n",
    "# epochs_Toi270_p3   = Toi270_T0_p3+(epochs_big*Toi270_per_p3)\n",
    "\n",
    "\n",
    "# # Toi270_Tdur_p4 = 3.2838\n",
    "# # Toi270_T0_p4   = 1352.99\n",
    "# # Toi270_per_p4  = 27.8094\n",
    "# # epochs_Toi270_p4   =Toi270_T0_p4+(epochs_big*Toi270_per_p4)\n",
    "\n",
    "# Toi270_Tdur = [Toi270_Tdur_p1, Toi270_Tdur_p2, Toi270_Tdur_p3]#, Toi270_Tdur_p4]\n",
    "# Toi270_T0 = [Toi270_T0_p1, Toi270_T0_p2, Toi270_T0_p3]#, Toi270_T0_p4]\n",
    "# Toi270_per = [Toi270_per_p1, Toi270_per_p2, Toi270_per_p3]#, Toi270_per_p4]\n",
    "\n",
    "# epochs_Toi270 = [epochs_Toi270_p1, epochs_Toi270_p2, epochs_Toi270_p3]#, epochs_Toi270_p4]"
   ]
  },
  {
   "cell_type": "code",
   "execution_count": 10,
   "id": "7ad4e111",
   "metadata": {},
   "outputs": [],
   "source": [
    "ctlfile = './Total_Mdwarf_files/by_sector/PM_year_1/mdwarf_params_sector_13.csv'\n",
    "mdwarfs = pd.read_csv(ctlfile, iterator =True, chunksize = 100000, index_col=0)\n",
    "\n",
    "TOI_904 = pd.concat(\n",
    "    [chunk[chunk['TICID'].astype(int)==int(261257684)] \n",
    "    for chunk in mdwarfs]\n",
    ").reset_index(drop=True)"
   ]
  },
  {
   "cell_type": "code",
   "execution_count": 11,
   "id": "c7ddef42",
   "metadata": {},
   "outputs": [
    {
     "data": {
      "text/html": [
       "<div>\n",
       "<style scoped>\n",
       "    .dataframe tbody tr th:only-of-type {\n",
       "        vertical-align: middle;\n",
       "    }\n",
       "\n",
       "    .dataframe tbody tr th {\n",
       "        vertical-align: top;\n",
       "    }\n",
       "\n",
       "    .dataframe thead th {\n",
       "        text-align: right;\n",
       "    }\n",
       "</style>\n",
       "<table border=\"1\" class=\"dataframe\">\n",
       "  <thead>\n",
       "    <tr style=\"text-align: right;\">\n",
       "      <th></th>\n",
       "      <th>TICID</th>\n",
       "      <th>RA</th>\n",
       "      <th>DEC</th>\n",
       "      <th>Vmag</th>\n",
       "      <th>Jmag</th>\n",
       "      <th>Tmag</th>\n",
       "      <th>Teff</th>\n",
       "      <th>eTeff</th>\n",
       "      <th>Rad</th>\n",
       "      <th>eRad</th>\n",
       "      <th>...</th>\n",
       "      <th>S53</th>\n",
       "      <th>S54</th>\n",
       "      <th>S55</th>\n",
       "      <th>logg</th>\n",
       "      <th>elogg</th>\n",
       "      <th>M/H</th>\n",
       "      <th>eM/H</th>\n",
       "      <th>GAIA</th>\n",
       "      <th>aLSM</th>\n",
       "      <th>bLSM</th>\n",
       "    </tr>\n",
       "  </thead>\n",
       "  <tbody>\n",
       "    <tr>\n",
       "      <th>0</th>\n",
       "      <td>261257684.0</td>\n",
       "      <td>89.372315</td>\n",
       "      <td>-83.130204</td>\n",
       "      <td>12.588</td>\n",
       "      <td>9.607</td>\n",
       "      <td>10.846</td>\n",
       "      <td>3751.0</td>\n",
       "      <td>157.0</td>\n",
       "      <td>0.532439</td>\n",
       "      <td>0.015794</td>\n",
       "      <td>...</td>\n",
       "      <td>0.0</td>\n",
       "      <td>0.0</td>\n",
       "      <td>0.0</td>\n",
       "      <td>4.70914</td>\n",
       "      <td>0.009127</td>\n",
       "      <td>NaN</td>\n",
       "      <td>NaN</td>\n",
       "      <td>4.620844e+18</td>\n",
       "      <td>0.2581</td>\n",
       "      <td>0.3609</td>\n",
       "    </tr>\n",
       "  </tbody>\n",
       "</table>\n",
       "<p>1 rows × 79 columns</p>\n",
       "</div>"
      ],
      "text/plain": [
       "         TICID         RA        DEC    Vmag   Jmag    Tmag    Teff  eTeff  \\\n",
       "0  261257684.0  89.372315 -83.130204  12.588  9.607  10.846  3751.0  157.0   \n",
       "\n",
       "        Rad      eRad  ...  S53  S54  S55     logg     elogg  M/H  eM/H  \\\n",
       "0  0.532439  0.015794  ...  0.0  0.0  0.0  4.70914  0.009127  NaN   NaN   \n",
       "\n",
       "           GAIA    aLSM    bLSM  \n",
       "0  4.620844e+18  0.2581  0.3609  \n",
       "\n",
       "[1 rows x 79 columns]"
      ]
     },
     "execution_count": 11,
     "metadata": {},
     "output_type": "execute_result"
    }
   ],
   "source": [
    "TOI_904"
   ]
  },
  {
   "cell_type": "code",
   "execution_count": 12,
   "id": "1eb86987",
   "metadata": {},
   "outputs": [],
   "source": [
    "def fractional_transit(\n",
    "    duration,\n",
    "    maxwidth,\n",
    "    depth,\n",
    "    samples,\n",
    "    per,\n",
    "    rp,\n",
    "    a,\n",
    "    inc,\n",
    "    ecc,\n",
    "    w,\n",
    "    u,\n",
    "    limb_dark,\n",
    "    cached_reference_transit=None,\n",
    "):\n",
    "    \"\"\"Returns a scaled reference transit with fractional width and depth\"\"\"\n",
    "\n",
    "    if cached_reference_transit is None:\n",
    "#         print('a')\n",
    "        reference_flux = reference_transit(\n",
    "            samples=samples,\n",
    "            per=per,\n",
    "            rp=rp,\n",
    "            a=a,\n",
    "            inc=inc,\n",
    "            ecc=ecc,\n",
    "            w=w,\n",
    "            u=u,\n",
    "            limb_dark=limb_dark,\n",
    "        )\n",
    "    else:\n",
    "#         print('b')\n",
    "        reference_flux = cached_reference_transit\n",
    "\n",
    "    # Interpolate to shorter interval - new method without scipy\n",
    "    reference_time = np.linspace(-0.5, 0.5, samples)\n",
    "    occupied_samples = int((duration / maxwidth) * samples)\n",
    "    x_new = np.linspace(-0.5, 0.5, occupied_samples)\n",
    "#     print(type(x_new),type(x_new[0]), type(reference_time), type(reference_time[0]))\n",
    "    f = interp1d(x_new, reference_time)\n",
    "#     print(type(reference_flux), type(reference_flux[0]))\n",
    "    y_new = f(reference_flux)\n",
    "\n",
    "    # Patch ends with ones (\"1\")\n",
    "    missing_samples = samples - occupied_samples\n",
    "    emtpy_segment = np.ones(int(missing_samples * 0.5))\n",
    "    result = np.append(emtpy_segment, y_new)\n",
    "    result = np.append(result, emtpy_segment)\n",
    "#     print(len(result), len(reference_time))\n",
    "    if np.size(result) < samples:  # If odd number of samples\n",
    "        result = np.append(result, np.ones(1))\n",
    "\n",
    "    # Depth rescaling\n",
    "    result = 1 - ((1 - result) * depth)\n",
    "#     print(duration)\n",
    "#     plt.plot(np.linspace(min(reference_time), max(reference_time), len(result)), result)\n",
    "#     plt.show()\n",
    "\n",
    "    return result\n",
    "\n",
    "###Creating cache of models\n",
    "def reference_transit(per, rp, a, inc, ecc, w, u, limb_dark, samples = 24):\n",
    "    \"\"\"Returns an Earth-like transit of width 1 and depth 1\"\"\"\n",
    "    ###Samples = maxwidth of samples = number of points in max duration val\n",
    "    ###NOTE: TLS requires that his number be EVEN\n",
    "    f = np.ones(1000)\n",
    "    duration = 1  # transit duration in days. Increase for exotic cases. ###I want the max trans dur to be 12 hrs\n",
    "    t = np.linspace(-duration * 0.5, duration * 0.5, 1000)\n",
    "    t_2_lin = np.linspace(0., duration, 1000)\n",
    "    ###FOR ME: T=time in lc <- NOT TRUE. WHY: this is a model. I would like each transit \n",
    "    ###to start at 0 and then go to x duration BECAUSE ising t0 = 0 is EASY and then i\n",
    "    ###will SHIFT IT so the transit starts at 0 and t0 is size of shift \n",
    "    b_model           = batman.TransitParams()\n",
    "    b_model.t0        = 0  # time of inferior conjunction\n",
    "    b_model.per       = per  # orbital period, use Earth as a reference\n",
    "    b_model.rp        = rp  # planet radius (in units of stellar radii)\n",
    "    b_model.a         = a  # semi-major axis (in units of stellar radii)\n",
    "    b_model.inc       = inc  # orbital inclination (in degrees)\n",
    "    b_model.ecc       = ecc  # eccentricity\n",
    "    b_model.w         = w  # longitude of periastron (in degrees)\n",
    "    b_model.u         = u  # limb darkening coefficients\n",
    "    b_model.limb_dark = limb_dark  # limb darkening model\n",
    "    m = batman.TransitModel(b_model, t)  # initializes model\n",
    "    model_flux = m.light_curve(b_model)  # calculates light curve\n",
    "\n",
    "    # Determine start of transit (first value < 1)\n",
    "    idx_first = np.argmax(model_flux < 1)\n",
    "#     print(idx_first, len(model_flux))\n",
    "    intransit_model_flux = model_flux[idx_first : -idx_first + 1]\n",
    "    intransit_time = t[idx_first : -idx_first + 1] \n",
    "\n",
    "    # Downsample (bin) to target sample size\n",
    "    x_new = np.linspace(t[idx_first], t[-idx_first - 1], samples)\n",
    "#     print(type(x_new),type(x_new[0]), type(intransit_time), type(intransit_time[0]))\n",
    "\n",
    "    f = interp1d(x_new, intransit_time)\n",
    "#     print(type(intransit_model_flux), type(intransit_model_flux[0]))\n",
    "    downsampled_intransit_model_flux = f(intransit_model_flux)\n",
    "\n",
    "    # Rescale to height [0..1]\n",
    "    rescaled = (np.min(downsampled_intransit_model_flux) - downsampled_intransit_model_flux) / (\n",
    "        np.min(downsampled_intransit_model_flux) - 1\n",
    "    )\n",
    "    \n",
    "#     plt.plot(np.linspace(min(intransit_time), max(intransit_time), len(rescaled)), rescaled)\n",
    "#     plt.show()\n",
    "    return rescaled #, intransit_time\n",
    "\n",
    "\n",
    "def get_cache(durations, rp = 0.03, per=25., a =0.15*215., inc=89.5, ecc=0., w=180., u=[0.2, 0.1],\n",
    "              limb_dark='quadratic', verbose=True, maxwidth_in_samples = MAXWIDTH_IN_SAMPLES):\n",
    "    \"\"\"Fetches (size(durations)*size(depths)) light curves of length \n",
    "        maxwidth_in_samples and returns these LCs in a 2D array, together with \n",
    "        their metadata in a separate array.\"\"\"\n",
    "    \n",
    "    if verbose:\n",
    "        print(\"Creating model cache for\", str(len(durations)), \"durations\")\n",
    "    lc_arr = []\n",
    "    rows = np.size(durations)\n",
    "    lc_cache_overview = np.zeros(\n",
    "        rows,\n",
    "        dtype=[(\"duration\", \"float128\"), (\"width_in_samples\", \"int64\"), (\"overshoot\", \"float128\")],\n",
    "    )\n",
    "    cached_reference_transit = reference_transit(\n",
    "#         samples=maxwidth_in_samples,\n",
    "        per=per,\n",
    "        rp=rp,\n",
    "        a=a,\n",
    "        inc=inc,\n",
    "        ecc=ecc,\n",
    "        w=w,\n",
    "        u=u,\n",
    "        limb_dark=limb_dark,\n",
    "    )\n",
    "\n",
    "    row = 0\n",
    "    for duration in durations:\n",
    "        scaled_transit = fractional_transit(\n",
    "            duration=duration,\n",
    "            maxwidth=np.max(durations),\n",
    "            depth=SIGNAL_DEPTH,\n",
    "            samples=maxwidth_in_samples,\n",
    "            per=per,\n",
    "            rp=rp,\n",
    "            a=a,\n",
    "            inc=inc,\n",
    "            ecc=ecc,\n",
    "            w=w,\n",
    "            u=u,\n",
    "            limb_dark=limb_dark,\n",
    "            cached_reference_transit=cached_reference_transit,\n",
    "        )\n",
    "        lc_cache_overview[\"duration\"][row] = duration\n",
    "        used_samples = int((duration / np.max(durations)) * maxwidth_in_samples)\n",
    "        lc_cache_overview[\"width_in_samples\"][row] = used_samples\n",
    "        full_values = np.where(\n",
    "            scaled_transit < (1 - 0.01 * 10 ** -6 )\n",
    "        )\n",
    "#         print(scaled_transit < (1 - 0.01 * 10 ** -6 ))\n",
    "        first_sample = np.min(full_values)\n",
    "        last_sample = np.max(full_values) + 1\n",
    "        signal = scaled_transit[first_sample:last_sample]\n",
    "        lc_arr.append(signal)\n",
    "\n",
    "        # Fraction of transit bottom and mean flux\n",
    "        overshoot = np.mean(signal) / np.min(signal)\n",
    "        # Later, we multiply the inverse fraction ==> convert to inverse percentage\n",
    "        lc_cache_overview[\"overshoot\"][row] = 1 / (2 - overshoot)\n",
    "#         print(overshoot, 1 / (2 - overshoot))\n",
    "        row += +1\n",
    "        \n",
    "\n",
    "    lc_arr = np.array(lc_arr, dtype=object)\n",
    "    return lc_cache_overview, lc_arr\n"
   ]
  },
  {
   "cell_type": "code",
   "execution_count": 13,
   "id": "0dffa0d9",
   "metadata": {},
   "outputs": [
    {
     "data": {
      "text/plain": [
       "array([(nan,), (nan,), (nan,), (nan,), (nan,), (nan,), (nan,), (nan,),\n",
       "       (nan,), (nan,)], dtype=[('chi2', 'O')])"
      ]
     },
     "execution_count": 13,
     "metadata": {},
     "output_type": "execute_result"
    }
   ],
   "source": [
    "list_=np.zeros(10)\n",
    "residuals = np.full(len(list_), np.nan, dtype=[('chi2','object')])\n",
    "residuals"
   ]
  },
  {
   "cell_type": "code",
   "execution_count": 14,
   "id": "14b03210",
   "metadata": {},
   "outputs": [],
   "source": [
    "# T0_p1 = 2459366.628641-2457000\n",
    "\n",
    "# p_p1 = 10.877 #period\n",
    "\n",
    "# T0_p2 = 2459386.3-2457000\n",
    "# # T0_p2 = 2387.2\n",
    "# p_p2 = 83.9996075 #period\n",
    "\n",
    "# epochs = np.array(list(range(-30, 20)))\n",
    "# epochs_T0_p2 = T0_p2+(epochs*p_p2)\n",
    "epochs_big = np.array(list(range(-500, 500)))\n",
    "\n",
    "# epochs_T0_p1 = T0_p1+(epochs_big*p_p1)\n",
    "\n",
    "\n",
    "\n",
    "# @numba.jit(fastmath=True, parallel=False, nopython=True)\n",
    "def lowest_residuals_in_this_duration(\n",
    "    mean,\n",
    "    time,\n",
    "    transit_depth_min,\n",
    "    data_arr,\n",
    "    duration,\n",
    "    signal,\n",
    "    inverse_squared_dy_arr,\n",
    "    overshoot,\n",
    "    ootr,\n",
    "    chosen_transit_row,\n",
    "    datapoints,\n",
    "    T0_fit_margin, \n",
    "    threshold = 7.3, \n",
    "    verbose = False\n",
    "):\n",
    "    T0 = []\n",
    "    T0_st_indx = []\n",
    "    SNR = threshold\n",
    "    residuals_depths = np.full(len(time), np.nan, dtype = ([(\"residuals\", \"float128\"), (\"depths\", \"float128\")]))\n",
    "    # if nothing is fit, we fit a straight line: signal=1. Then, at dy=1,\n",
    "    # the squared sum of residuals equals the number of datapoints\n",
    "    summed_residual_in_rows = datapoints\n",
    "\n",
    "    xth_point = 1  # How many cadences the template shifts forward in each step\n",
    "    if T0_fit_margin > 0 and duration > T0_fit_margin:\n",
    "        T0_fit_margin = 1 / T0_fit_margin\n",
    "        xth_point = int(duration / T0_fit_margin)\n",
    "        if xth_point < 1:\n",
    "            xth_point = 1\n",
    "\n",
    "    for i in range(len(mean)):\n",
    "        if (mean[i] > transit_depth_min) and (i % xth_point == 0):\n",
    "            data = data_arr[i : i + duration]\n",
    "            flux_oot = np.delete(data_arr, range(i,i+duration))\n",
    "\n",
    "            dy = inverse_squared_dy_arr[i : i + duration]\n",
    "            target_depth = mean[i] * overshoot\n",
    "            scale = SIGNAL_DEPTH / target_depth\n",
    "            reverse_scale = 1 / scale  # speed: one division now, many mults later\n",
    "            snr = (mean[i] / (np.std(flux_oot)*np.sqrt(0.5))) * duration ** (0.5)\n",
    "            if snr>SNR:\n",
    "                SNR=snr\n",
    "            intransit_residual = 0\n",
    "            for j in range(len(signal)):\n",
    "                sigi = (1 - signal[j]) * reverse_scale\n",
    "                intransit_residual += ((data[j] - (1 - sigi)) ** 2) * dy[j]\n",
    "            current_stat = intransit_residual + ootr[i] #- summed_edge_effect_correction\n",
    "            \n",
    "            residuals_depths['residuals'][i] = current_stat\n",
    "            residuals_depths['depths'][i] = 1-target_depth\n",
    "            \n",
    "    residuals = residuals_depths['residuals'].astype('float128')\n",
    "\n",
    "    if np.nanmin(residuals)<=np.nanmedian(residuals)-4*np.nanstd(residuals) and SNR>threshold:\n",
    "        indexes = np.where(residuals<=np.nanmedian(residuals)-4*np.nanstd(residuals))[0]\n",
    "        for jjj in indexes:\n",
    "            if jjj and jjj+1 in indexes:\n",
    "                T0_st_indx.extend(np.where(residuals == min(residuals[[jjj, jjj+1]]))[0])\n",
    "        \n",
    "        if verbose:\n",
    "            print(duration*30/60, 'planets Tdur: ', Toi904_Tdur)#' Tdur_p4:', Toi904_Tdur[3])\n",
    "            fig, axes = plt.subplots(nrows = 1, ncols = 2, figsize=(20,5))\n",
    "            axes[0].plot(time, residuals, zorder = 10)\n",
    "\n",
    "            axes[1].scatter(time, data_arr, s = 1, zorder = 11, alpha = 1, color = 'black')\n",
    "#             for rrr in range(len(epochs_new)):\n",
    "#                 for i in epochs_new[rrr]:\n",
    "#                     diff = np.nanmax(residuals)-np.nanmin(residuals)\n",
    "#                     axes[0].vlines(i-(Toi904_Tdur[rrr]/48), np.nanmin(residuals),np.nanmax(residuals), color = 'C'+str(rrr), alpha = 0.5, zorder = 2)\n",
    "#                     axes[1].vlines(i, np.nanmin(data_arr),np.nanmax(data_arr), color = 'C'+str(rrr), alpha = 0.5, zorder = 2)\n",
    "            for j in range(1,7):\n",
    "                axes[0].hlines(np.nanmedian(residuals)-j*np.nanstd(residuals), np.min(time), np.max(time), alpha = 0.5, zorder = 3, color = 'violet')\n",
    "            plt.subplots_adjust(wspace=0.2, hspace=0)\n",
    "            plt.show()\n",
    "\n",
    "    \n",
    "        return SNR, np.array(list(residuals_depths['residuals'].astype('float128'))), np.array(list(residuals_depths['depths'].astype('float128'))), T0_st_indx\n",
    "    else:\n",
    "        return 0, [],[], []\n",
    "    \n",
    "    "
   ]
  },
  {
   "cell_type": "code",
   "execution_count": 15,
   "id": "46fe8c8a",
   "metadata": {},
   "outputs": [],
   "source": [
    "# @numba.jit(fastmath=True, parallel=False, nopython=True)\n",
    "def out_of_transit_residuals(data, width_signal, inv_sq_dy):\n",
    "    chi2 = np.zeros(len(data) - width_signal + 1)\n",
    "    fullsum = np.sum(((1 - data) ** 2) * inv_sq_dy)\n",
    "    window = np.sum(((1 - data[:width_signal]) ** 2) * inv_sq_dy[:width_signal])\n",
    "    chi2[0] = fullsum - window\n",
    "    for i in range(1, len(data) - width_signal + 1):\n",
    "        becomes_visible = i - 1\n",
    "        becomes_invisible = i - 1 + width_signal\n",
    "        add_visible_left = (1 - data[becomes_visible]) ** 2 * inv_sq_dy[becomes_visible]\n",
    "        remove_invisible_right = (1 - data[becomes_invisible]) ** 2 * inv_sq_dy[\n",
    "            becomes_invisible\n",
    "        ]\n",
    "        chi2[i] = chi2[i - 1] + add_visible_left - remove_invisible_right\n",
    "    return chi2\n"
   ]
  },
  {
   "cell_type": "code",
   "execution_count": 16,
   "id": "7ed229d5",
   "metadata": {},
   "outputs": [],
   "source": [
    "# thing = np.zeros(\n",
    "#         12,\n",
    "#         dtype=[(\"duration_pts\", \"int64\"), (\"residuals\", \"object\")],\n",
    "#     )\n",
    "# thing[0][1] = [1,2,3]\n",
    "# thing[1][1] = [4,5,6]\n",
    "# for i in range(2, 12):\n",
    "#     thing[i][1] = [100, 200, 300]\n",
    "\n",
    "# x = np.array([[1],[10]], dtype=[('thing', 'float128'), ('stuff', 'float128')])\n",
    "# x\n",
    "\n",
    "# stack_y = np.arrafy([4,40])\n",
    "\n",
    "# np.column_stack((x, stack_y))\n"
   ]
  },
  {
   "cell_type": "code",
   "execution_count": 17,
   "id": "cc848d0c",
   "metadata": {},
   "outputs": [
    {
     "data": {
      "text/plain": [
       "{'index_val': 10, 'a': 10}"
      ]
     },
     "execution_count": 17,
     "metadata": {},
     "output_type": "execute_result"
    }
   ],
   "source": [
    "dict_t0 = {}\n",
    "dict_t0['index_val']= 10\n",
    "dict_t0\n",
    "if 'a' not in dict_t0.keys():\n",
    "    dict_t0['a'] = 10\n",
    "dict_t0"
   ]
  },
  {
   "cell_type": "code",
   "execution_count": 18,
   "id": "0413948d",
   "metadata": {},
   "outputs": [
    {
     "data": {
      "text/plain": [
       "array([],\n",
       "      dtype=[('T0', '<f16'), ('best_dur', '<i8'), ('best_depth', '<f16')])"
      ]
     },
     "execution_count": 18,
     "metadata": {},
     "output_type": "execute_result"
    }
   ],
   "source": [
    "T0_vals = np.zeros(\n",
    "        0,\n",
    "        dtype=[('T0', 'float128'), ('best_dur', 'int64'), ('best_depth', 'float128')],\n",
    "    )\n",
    "T0_vals"
   ]
  },
  {
   "cell_type": "code",
   "execution_count": 19,
   "id": "136b05d0",
   "metadata": {},
   "outputs": [],
   "source": [
    "T0_vals = np.ones(\n",
    "        10,\n",
    "        dtype=[('T0', 'float128'), ('best_dur', 'int64')],\n",
    "    )\n",
    "T0_vals['T0'][4]=5\n",
    "T0_vals[np.where(T0_vals['T0']==5)[0][False]] = 3\n"
   ]
  },
  {
   "cell_type": "code",
   "execution_count": 20,
   "id": "84d0367c",
   "metadata": {},
   "outputs": [
    {
     "data": {
      "text/plain": [
       "array([(1., 1), (1., 1), (1., 1), (1., 1), (5., 1), (1., 1), (1., 1),\n",
       "       (1., 1), (1., 1), (1., 1)],\n",
       "      dtype=[('T0', '<f16'), ('best_dur', '<i8')])"
      ]
     },
     "execution_count": 20,
     "metadata": {},
     "output_type": "execute_result"
    }
   ],
   "source": [
    "T0_vals"
   ]
  },
  {
   "cell_type": "code",
   "execution_count": null,
   "id": "e349ced5",
   "metadata": {},
   "outputs": [],
   "source": []
  },
  {
   "cell_type": "code",
   "execution_count": 21,
   "id": "1491c530",
   "metadata": {},
   "outputs": [
    {
     "data": {
      "text/plain": [
       "0"
      ]
     },
     "execution_count": 21,
     "metadata": {},
     "output_type": "execute_result"
    }
   ],
   "source": [
    "T0_vals = np.full(\n",
    "    100, np.nan, \n",
    "    dtype=[('T0_start', 'int64'), ('T0', 'float128'), ('residuals', 'float128'), ('best_dur', 'int64'), ('best_depth', 'float128')]\n",
    ")\n",
    "\n",
    "T0_vals['T0_start'][10] = 100\n",
    "\n",
    "min(np.where(T0_vals['best_dur']==-9223372036854775808)[0])\n"
   ]
  },
  {
   "cell_type": "code",
   "execution_count": 22,
   "id": "71f539d3",
   "metadata": {},
   "outputs": [
    {
     "data": {
      "text/plain": [
       "array([], dtype=int64)"
      ]
     },
     "execution_count": 22,
     "metadata": {},
     "output_type": "execute_result"
    }
   ],
   "source": [
    "np.where(T0_vals['T0_start']==50)[0]"
   ]
  },
  {
   "cell_type": "code",
   "execution_count": 23,
   "id": "db385a59",
   "metadata": {},
   "outputs": [],
   "source": [
    "def search_best_fit_duration(\n",
    "#     duration,\n",
    "    t,\n",
    "    y,\n",
    "    dy,\n",
    "    transit_depth_min,\n",
    "    lc_arr,\n",
    "    lc_cache_overview,\n",
    "    T0_fit_margin,\n",
    "    verbose = True\n",
    "):\n",
    "    \"\"\"Core routine to search the flux data set 'injected' over all 'periods'\"\"\"\n",
    "    SNR_val = 0.\n",
    "\n",
    "    # duration (in samples) of widest transit in lc_cache (axis 0: rows; axis 1: columns)\n",
    "    npoints_in_duration = np.unique(lc_cache_overview[\"width_in_samples\"])\n",
    "    T0_vals = np.full(\n",
    "        100, np.nan, \n",
    "        dtype=[('T0_start', 'float128'), ('T0', 'float128'), ('residuals', 'float128'), ('best_dur', 'int64'), ('best_depth', 'float128')]\n",
    "    )\n",
    "\n",
    "#     maxwidth_in_samples = int(max(npoints_in_duration))\n",
    "#     if maxwidth_in_samples % 2 != 0:\n",
    "#         maxwidth_in_samples = maxwidth_in_samples + 1\n",
    "\n",
    "    inverse_squared_dy = 1 / dy ** 2\n",
    "\n",
    "    skipped_all = True\n",
    "#     best_row = 0  # shortest and shallowest transit\n",
    "#     best_depth = 0\n",
    "    T0_starts = []\n",
    "    for i in range(len(npoints_in_duration)):\n",
    "        dur = npoints_in_duration[i]\n",
    "\n",
    "        chosen_transit_row = 0\n",
    "        while lc_cache_overview[\"width_in_samples\"][chosen_transit_row] != dur:\n",
    "            chosen_transit_row += 1\n",
    "        snr, residuals, depths, T0_start_indx = lowest_residuals_in_this_duration(\n",
    "            mean=1 - running_mean(y, dur),\n",
    "            time = t,\n",
    "            transit_depth_min=transit_depth_min,\n",
    "            data_arr=y,\n",
    "            duration=dur,\n",
    "            signal=lc_arr[chosen_transit_row],\n",
    "            inverse_squared_dy_arr=inverse_squared_dy,\n",
    "            overshoot=lc_cache_overview[\"overshoot\"][chosen_transit_row],\n",
    "            ootr=out_of_transit_residuals(\n",
    "                y, dur, inverse_squared_dy\n",
    "            ),\n",
    "            chosen_transit_row=chosen_transit_row,\n",
    "            datapoints=len(y),\n",
    "            T0_fit_margin=T0_fit_margin,\n",
    "        )\n",
    "        \n",
    "       \n",
    "        SNR_val += snr\n",
    "#         print('abc', len(residuals))\n",
    "        residuals = residuals/np.nanmedian(residuals)\n",
    "#         print('xyz', len(residuals))        \n",
    "\n",
    "        T0_starts.extend(T0_start_indx)\n",
    "        T0_starts = list(set(T0_starts))\n",
    "#         print(T0_starts)\n",
    "#         print('T0', T0_starts, T0_vals[np.where(T0_vals['T0_start']>0.)[0]], len(residuals))\n",
    "        if len(residuals)>0:\n",
    "            for jjj in T0_starts:\n",
    "                indx = False\n",
    "                try: \n",
    "\n",
    "                    indx = np.where(T0_vals['T0_start']==jjj)[0][0]\n",
    "                    if float(T0_vals['residuals'][indx])<float(residuals[jjj]):\n",
    "                        indx = False\n",
    "#                     print('indx1')\n",
    "\n",
    "                except:\n",
    "#                     print('indx2')\n",
    "                    indx = min(np.where(T0_vals['best_dur']==-9223372036854775808)[0])\n",
    "\n",
    "#                 print(jjj, T0_vals['residuals'][indx])\n",
    "\n",
    "                T0_vals['T0_start'][indx]   = jjj\n",
    "                T0_vals['T0'][indx]         = t[jjj]+chosen_transit_row/48\n",
    "                T0_vals['residuals'][indx]  = float(residuals[jjj])\n",
    "                T0_vals['best_dur'][indx]   = chosen_transit_row\n",
    "                T0_vals['best_depth'][indx] = float(depths[jjj])\n",
    "\n",
    "        if verbose:\n",
    "            f, (ax1, ax2) = plt.subplots(1, 2, sharey=False, figsize = (20, 10))\n",
    "\n",
    "            resids = np.full(len(t), 0.0)\n",
    "\n",
    "            for i in range(len(Residuals_all)):\n",
    "        #         print(i)\n",
    "                ax1.plot(t, Residuals_all[i], color = 'C'+str(i))\n",
    "                resids = resids+(Residuals_all[i]-1)\n",
    "            ax2.plot(t, resids, color = 'k' )\n",
    "            plt.show()\n",
    "    return np.array(list(T0_vals['T0_start'])), np.array(list(T0_vals['T0'])), np.array(list(T0_vals['best_dur'])), np.array(list(T0_vals['best_depth'])), np.array(list(T0_vals['residuals']))\n",
    "\n",
    "        \n",
    "        \n",
    "# for i in residuals\n",
    "#         if this_residual < summed_residual_in_rows:\n",
    "#             summed_residual_in_rows = this_residual\n",
    "#             best_row = chosen_transit_row\n",
    "#             best_depth = this_depth\n",
    "\n",
    "#     return [period, summed_residual_in_rows, best_row, best_depth]"
   ]
  },
  {
   "cell_type": "code",
   "execution_count": 24,
   "id": "86d26b8b",
   "metadata": {},
   "outputs": [],
   "source": [
    "ctlfile = './Total_Mdwarf_files/by_sector/PM_year_1/mdwarf_params_sector_13.csv'\n",
    "mdwarfs = pd.read_csv(ctlfile, iterator =True, chunksize = 100000, index_col=None)\n",
    "\n",
    "TOI_904 = pd.concat(\n",
    "    [chunk[chunk['TICID'].astype(int)==int(261257684)] \n",
    "    for chunk in mdwarfs]\n",
    ").reset_index(drop=True)"
   ]
  },
  {
   "cell_type": "code",
   "execution_count": 25,
   "id": "d3b8d166",
   "metadata": {},
   "outputs": [
    {
     "data": {
      "text/plain": [
       "array([0.2581, 0.3609])"
      ]
     },
     "execution_count": 25,
     "metadata": {},
     "output_type": "execute_result"
    }
   ],
   "source": [
    " TOI_904[['aLSM', 'bLSM']].values[0].astype(float)"
   ]
  },
  {
   "cell_type": "code",
   "execution_count": 26,
   "id": "a0862e84",
   "metadata": {},
   "outputs": [],
   "source": [
    "def running_mean(data, window_size):\n",
    "    \"\"\"Returns the moving average of an array `data`.\n",
    "    Parameters\n",
    "    ----------\n",
    "    data : array of numbers\n",
    "        The running mean will be computed on this data.\n",
    "    window_size : int\n",
    "        Window length used to compute the running mean.\n",
    "    \"\"\"\n",
    "    cumsum = np.cumsum(np.insert(data, 0, 0))\n",
    "    return (cumsum[window_size:] - cumsum[:-window_size]) / float(window_size)\n",
    "\n",
    "\n",
    "def remove_outliers(time, flux, sigma = 5., sigma_lower=None, sigma_upper=None, **kwargs):\n",
    "    outlier_mask = sigma_clip(data=flux,\n",
    "                              sigma=sigma,\n",
    "                              sigma_lower=sigma_lower,\n",
    "                              sigma_upper=sigma_upper,\n",
    "                              **kwargs).mask\n",
    "    # Second, we return the masked light curve and optionally the mask itself\n",
    "    return time[~outlier_mask], flux[~outlier_mask]\n",
    "    \n",
    "def flatten_lc(time, flux):\n",
    "    flat_flux, flux_trend = flatten(\n",
    "    time,                 # Array of time values\n",
    "    flux,                 # Array of flux values\n",
    "    method='biweight',\n",
    "    window_length=1.,    # The length of the filter window in units of ``time``\n",
    "#     edge_cutoff=0.1,      # length (in units of time) to be cut off each edge.\n",
    "#     break_tolerance=1,  # Split into segments at breaks longer than that\n",
    "    return_trend=True,    # Return trend and flattened light curve\n",
    "#     cval=5.0              # Tuning parameter for the robust estimators\n",
    "    )\n",
    "    return flat_flux, flux_trend\n",
    "\n",
    "def cleaning_up_data(time, flux):\n",
    "#     flux = flux/np.nanmedian(flux)\n",
    "#     try: \n",
    "#         flattened_flux = flatten_lc(time, flux)\n",
    "\n",
    "#     except Exception as error: \n",
    "#         flattened_flux = flux\n",
    "\n",
    "    cleaned_time, cleaned_flux = remove_outliers(time, flux)\n",
    "    return cleaned_time, cleaned_flux"
   ]
  },
  {
   "cell_type": "code",
   "execution_count": 27,
   "id": "61701e5b",
   "metadata": {},
   "outputs": [],
   "source": [
    "def mkdir_if_doesnt_exist(outdir, str_new_dir_name):\n",
    "    # Written by Mallory Harris\n",
    "\n",
    "    # Description: creates new directory to save data to if it does not already exist\n",
    "\n",
    "    # Arguments : outdir             = existing directory in which new directory will be located\n",
    "    #             str_new_dir_name   = string of the new subdirectory of outdir's name\n",
    "\n",
    "\n",
    "    if os.path.exists(outdir+str_new_dir_name)==False:\n",
    "        new_outdir = os.path.join(outdir, str_new_dir_name)\n",
    "        os.mkdir(new_outdir)\n",
    "\n",
    "\n",
    "def fetch(ticid, sector_num, pipeline, exptime): \n",
    "    # Written by Mallory Harris\n",
    "\n",
    "    # Description: uses lightkurve to download TESS fits file based on sector number, source pipeline, exposure time and star id\n",
    "\n",
    "    # Arguments : ticid       = TESS Input Catalog identification number of star\n",
    "    #             sector_num  = sector from which to download data\n",
    "    #             pipeline    = source pipeline from which to get data (options are 'QLP', 'SPOC', 'TESS-SPOC')\n",
    "    #             exptime     = exposure length of observations (2 or 30 minutes, depending on pipeline) units of seconds\n",
    "    #                           'QLP', 'TESS-SPOC' = 30 minute (1800 s) exptime\n",
    "    #                           'SPOC'             = 2  minutte (120 s) exptime\n",
    "\n",
    "\n",
    "    good_authors = [pipeline]\n",
    "    if pipeline == 'SPOC':\n",
    "        Path = './TOI_270/mastDownload'\n",
    "        small_dir_path_lst = glob.glob(Path+\"/TESS/*\"+str(ticid).zfill(16)+\"*\")\n",
    "    else:\n",
    "        Path = './TOI_270/FFI_data/sector_'+str(sector_num)+'/mastDownload'\n",
    "        small_dir_path_lst = glob.glob(Path+\"/HLSP/*\"+str(ticid).zfill(16)+\"*\")\n",
    "\n",
    "        if pipeline == 'QLP':\n",
    "            small_dir_path_lst = [i for i in small_dir_path_lst if 'ffi' in i]\n",
    "        elif pipeline == 'TESS-SPOC':\n",
    "            small_dir_path_lst = [i for i in small_dir_path_lst if 'tess-spoc' in i]\n",
    "            \n",
    "    for i in small_dir_path_lst:\n",
    "        file = glob.glob(i+'/*.fits')\n",
    "        print('there is something already in the folder:', len(file))\n",
    "        os.remove(file[0])\n",
    "        print('it was removed')\n",
    "        \n",
    "    search = lk.search_lightcurve('TIC '+str(ticid), mission='TESS', sector=sector_num, exptime =exptime)\n",
    "    print(search)\n",
    "    try:\n",
    "        result = all(elem in list(search.author)  for elem in good_authors)\n",
    "    except:\n",
    "        print(search)\n",
    "        result = False\n",
    "\n",
    "    if result == True:\n",
    "        search = search[search.author == pipeline]\n",
    "        search.download(quality_bitmask='default', download_dir = './TOI_270/FFI_data/sector_'+str(sector_num))\n",
    "\n",
    "        print('done downloading')\n",
    "    else:\n",
    "        print('No '+pipeline+' obervations')\n",
    "\n",
    "def get_lcf_files(df, sector_num, pipeline, last_hung_ticid = 0):\n",
    "    # Written by Mallory Harris\n",
    "\n",
    "    # Description: takes dataframe of TICIDs observed in a given sector (identified by a column in df, explained below)\n",
    "    #              to download light curves of that sector for each ticid from given pipeline \n",
    "            \n",
    "\n",
    "    # Arguments : df              = panda dataframe. Must include at least one column of \"TICID\" with TESS identification number\n",
    "    #                               and one column denoting whether or not observations were taken in the named sector.\n",
    "    #                               example: if targets are observed in sector 20, their value in the column \"S20\" will be >0\n",
    "    #             sector_num      = sector from which to download data\n",
    "    #             pipeline        = source pipeline from which to get data (options are 'QLP', 'SPOC', 'TESS-SPOC')\n",
    "    #             last_hung_ticid = if, for any reason, this function is stopped, one can enter that last downloaded TICID to avoid re-downloading data\n",
    "\n",
    "    if pipeline == 'SPOC':\n",
    "        exptime = 'short'\n",
    "    else:\n",
    "        exptime = 'long'\n",
    "    new_df = df[df['S'+str(sector_num)]>0.].reset_index(drop = True)\n",
    "    print('sector '+str(sector_num), 'num targets', len(new_df))\n",
    "    indx = 0\n",
    "\n",
    "    if last_hung_ticid != 0:\n",
    "        indx = new_df[new_df['TICID'] == last_hung_ticid].index[0]\n",
    "    print('starting index: ', indx)\n",
    "    r = indx\n",
    "    sector_PS_targets = new_df[indx:]\n",
    "    #start_time = time.time()\n",
    "    masteroutdir = './TOI_270/'\n",
    "    if pipeline == 'QLP' or pipeline == 'TESS-SPOC':\n",
    "        mkdir_if_doesnt_exist(masteroutdir, 'FFI_data/')\n",
    "        masteroutdir = masteroutdir + 'FFI_data/'\n",
    "    else:\n",
    "        mkdir_if_doesnt_exist(masteroutdir, 'tic_data/')\n",
    "\n",
    "        masteroutdir = masteroutdir + 'tic_data/'\n",
    "    mkdir_if_doesnt_exist(masteroutdir, 'sector_'+str(sector_num))\n",
    "\n",
    "\n",
    "    \n",
    "    for i in sector_PS_targets['TICID']:\n",
    "        print(r)\n",
    "        r +=1\n",
    "\n",
    "        ticid = int(i)\n",
    "        \n",
    "        print('TIC '+str(ticid))\n",
    "        #print(time.localtime())\n",
    "        while 1<2:\n",
    "            proc = Process(target=fetch, args=(ticid, sector_num, pipeline, exptime))\n",
    "            proc.start()\n",
    "            proc.join(timeout = 10)\n",
    "            proc.terminate()\n",
    "            if proc.exitcode is None:\n",
    "                print('timeout')\n",
    "                continue\n",
    "            else:\n",
    "                print('success!')\n",
    "                break\n",
    "    print('All done!')\n"
   ]
  },
  {
   "cell_type": "code",
   "execution_count": 28,
   "id": "d079ef57",
   "metadata": {},
   "outputs": [],
   "source": [
    "# for i in range(1, 27):\n",
    "#     if TOI_270['S'+str(i)].astype(float)[0]>0.:\n",
    "#         get_lcf_files(TOI_270, i, 'TESS-SPOC')"
   ]
  },
  {
   "cell_type": "code",
   "execution_count": 29,
   "id": "796f81c5",
   "metadata": {},
   "outputs": [
    {
     "data": {
      "text/plain": [
       "5"
      ]
     },
     "execution_count": 29,
     "metadata": {},
     "output_type": "execute_result"
    }
   ],
   "source": [
    "\n",
    "tess_spoc = []\n",
    "tess_spoc_fits = sorted(glob.glob('../TOI_904_work/TESS_SPOC/*/*/*/*.fits'))\n",
    "# print(tess_spoc_fits)\n",
    "len(tess_spoc_fits)"
   ]
  },
  {
   "cell_type": "code",
   "execution_count": 30,
   "id": "727cf6e8",
   "metadata": {},
   "outputs": [],
   "source": [
    "\n",
    "# tess_spoc = []\n",
    "# tess_spoc_fits = sorted(glob.glob('./TOI_270/*/*/*/*/*/*.fits'))\n",
    "# # print(tess_spoc_fits)\n",
    "# len(tess_spoc_fits)\n",
    "# tess_spoc_fits"
   ]
  },
  {
   "cell_type": "code",
   "execution_count": 31,
   "id": "08c59ba0",
   "metadata": {},
   "outputs": [],
   "source": [
    "# array = np.array(tess_spoc_fits)\n",
    "# indx = [0,4,5,6,7,8,9,10,1,2,3]\n",
    "# tess_spoc_fits = array[indx]"
   ]
  },
  {
   "cell_type": "code",
   "execution_count": 32,
   "id": "91e0536a",
   "metadata": {},
   "outputs": [],
   "source": [
    "total_time_tess_spoc = []\n",
    "total_flux_tess_spoc = []\n",
    "transitless_flux_tess_spoc = []\n",
    "\n",
    "# i = tess_spoc_fits[0]\n",
    "# fig, ax = plt.subplots(figsize=(20,5))\n",
    "\n",
    "for i in tess_spoc_fits:\n",
    "    tess_spoc_hdulist=apf.open(i) #fits time series\n",
    "\n",
    "    tess_spoc_tbdata = tess_spoc_hdulist[1].data\n",
    "#     sector = np.int64(i.split('/')[7].split('_')[4].split('-')[1][1:])\n",
    "#     print(sector)\n",
    "    qual_tess_spoc         = tess_spoc_tbdata.QUALITY == 0\n",
    "\n",
    "    tess_spoc_time, tess_spoc_flux = tess_spoc_tbdata.TIME[qual_tess_spoc], tess_spoc_tbdata.SAP_FLUX[qual_tess_spoc]\n",
    "\n",
    "    tess_spoc_flux = tess_spoc_flux/np.nanmedian(tess_spoc_flux)\n",
    "    tess_spoc_flux, tess_spoc_time = tess_spoc_flux[~np.isnan(tess_spoc_flux)], tess_spoc_time[~np.isnan(tess_spoc_flux)]\n",
    "    \n",
    "    cleaned_time, cleaned_flux = cleaning_up_data(tess_spoc_time, tess_spoc_flux)\n",
    "\n",
    "#     epochs_of_p2_planets = []\n",
    "#     for zzz in list(range(2)):\n",
    "#         epochs = find_times_to_mask_previous_transits(cleaned_time, T0[zzz], Tdur[zzz], per[zzz])\n",
    "#         epochs_of_p2_planets.extend(epochs)\n",
    "#     masked_time, masked_flux, mask = mask_previous_transits(cleaned_time, cleaned_flux, epochs_of_p2_planets)        \n",
    "#     print(mask)\n",
    "    flat_flux, flat_trend = flatten_lc(cleaned_time, cleaned_flux)\n",
    "#     new_flat_trend = []\n",
    "#     rrr=0\n",
    "#     for jjj in range(len(mask)):\n",
    "#     #     print(r)\n",
    "#         if mask[jjj]==0.:\n",
    "#             new_flat_trend.append(flat_trend[rrr])\n",
    "#             rrr+=1\n",
    "#         if mask[jjj]==1.:\n",
    "#             new_flat_trend.append(np.median([flat_trend[rrr], flat_trend[rrr+1]]))\n",
    "#     transitless_flux_tess_spoc.extend(flat_flux)\n",
    "\n",
    "#     div_flux = np.array(cleaned_flux)/np.array(new_flat_trend)\n",
    "    \n",
    "    total_time_tess_spoc.extend(cleaned_time)\n",
    "    total_flux_tess_spoc.extend(flat_flux)\n",
    "    \n",
    "#     plt.scatter(cleaned_time, div_flux, label=f'TESS Sector {sector}')\n",
    "\n",
    "#     for epoch in epochs_T0_p2:\n",
    "#         plt.vlines(epoch, -10,10, color = 'red')\n",
    "#     for epoch in epochs_T0_p1:\n",
    "#         plt.vlines(epoch, -10,10, color = 'green')\n",
    "#     plt.vlines(2387.2, -10,10, color = 'blue')\n",
    "\n",
    "#     plt.xlim(2035, 2065)\n",
    "#     plt.ylim(0.9955, 1.004)\n",
    "\n",
    "# # \n",
    "# \n",
    "# print(i)\n"
   ]
  },
  {
   "cell_type": "code",
   "execution_count": 33,
   "id": "af9933af",
   "metadata": {},
   "outputs": [],
   "source": [
    "total_time_tess_spoc = np.array(total_time_tess_spoc)\n",
    "total_flux_tess_spoc = np.array(total_flux_tess_spoc)\n",
    "\n"
   ]
  },
  {
   "cell_type": "code",
   "execution_count": 34,
   "id": "26bbc0b9",
   "metadata": {},
   "outputs": [
    {
     "name": "stdout",
     "output_type": "stream",
     "text": [
      "12277\n",
      "12277\n"
     ]
    }
   ],
   "source": [
    "print(len(total_time_tess_spoc))\n",
    "print(len(total_flux_tess_spoc))"
   ]
  },
  {
   "cell_type": "code",
   "execution_count": 35,
   "id": "5edb0e36",
   "metadata": {},
   "outputs": [
    {
     "data": {
      "text/plain": [
       "array([0.00078888, 0.00078888, 0.00078888, ..., 0.00078888, 0.00078888,\n",
       "       0.00078888])"
      ]
     },
     "execution_count": 35,
     "metadata": {},
     "output_type": "execute_result"
    }
   ],
   "source": [
    "np.full(len(total_flux_tess_spoc), np.std(total_flux_tess_spoc))"
   ]
  },
  {
   "cell_type": "code",
   "execution_count": 36,
   "id": "522bc627",
   "metadata": {},
   "outputs": [],
   "source": [
    "time = total_time_tess_spoc\n",
    "flux = total_flux_tess_spoc\n",
    "\n",
    "def find_breaks(time, val = 0.5):\n",
    "    time = time[np.argsort(time)] \n",
    "    t   = np.diff(time)\n",
    "    inds = np.where( t>val)[0]\n",
    "    return inds + 1\n",
    "\n",
    "def sort_data_by_times(time, flux):\n",
    "    return time[np.argsort(time)], flux[np.argsort(time)]\n",
    "\n",
    "\n",
    "def breaking_up_data(time, flux):\n",
    "    brk = np.append(np.append([0], find_breaks(time)), [len(time)])\n",
    "    new_time, new_flux = sort_data_by_times(time, flux)\n",
    "    times = []\n",
    "    fluxes = []\n",
    "    for i in range(len(brk)-1):\n",
    "    # np.arange(brk[0], brk[1], 1)\n",
    "        r = np.arange(brk[i],brk[i+1], 1)\n",
    "    #     print(brk[i], brk[i+1])\n",
    "    #     print(min(time[r]), max(time[r]), len(time[r]))\n",
    "        times.append(new_time[r])\n",
    "        fluxes.append(new_flux[r])\n",
    "    return np.array(times), np.array(fluxes), np.array(new_time), np.array(new_flux)\n",
    "#     t1 = time[r1]; f1 = flux[r1]\n",
    "#     t2 = time[r2]; f2 = flux[r2]\n"
   ]
  },
  {
   "cell_type": "code",
   "execution_count": null,
   "id": "a1727db1",
   "metadata": {},
   "outputs": [],
   "source": []
  },
  {
   "cell_type": "code",
   "execution_count": 37,
   "id": "e01f4daa",
   "metadata": {},
   "outputs": [
    {
     "data": {
      "text/plain": [
       "array([2, 3])"
      ]
     },
     "execution_count": 37,
     "metadata": {},
     "output_type": "execute_result"
    }
   ],
   "source": [
    "mmm = np.array([1,2,3,4])\n",
    "\n",
    "mmm[[1, 2]]"
   ]
  },
  {
   "cell_type": "code",
   "execution_count": 38,
   "id": "a68e11a1",
   "metadata": {},
   "outputs": [
    {
     "data": {
      "text/plain": [
       "[array([144, 145, 146]), array([172, 173]), array([197, 198])]"
      ]
     },
     "execution_count": 38,
     "metadata": {},
     "output_type": "execute_result"
    }
   ],
   "source": [
    "T0_start = np.array([173, 145, 198, 172, 146, 197, 144])\n",
    "list(np.argsort(T0_start))\n",
    "T0_start = T0_start[np.argsort(T0_start)]\n",
    "indxes = np.append([0], np.append(find_breaks(T0_start[np.argsort(T0_start)], 2), [len(T0_start)]))\n",
    "# T0_start\n",
    "\n",
    "[T0_start[indxes[i]: indxes[i+1]] for i in range(len(indxes)-1)]"
   ]
  },
  {
   "cell_type": "code",
   "execution_count": 39,
   "id": "bba7b702",
   "metadata": {
    "scrolled": false
   },
   "outputs": [],
   "source": [
    "# df = TOI_270.copy()\n",
    "\n",
    "# resids_added= []\n",
    "# residuals_total = []\n",
    "\n",
    "# times, fluxes, total_sorted_times, total_sorted_flux = beaking_up_data(total_time_tess_spoc, total_flux_tess_spoc)\n",
    "\n",
    "# T0_all    = []\n",
    "# Tdur_all  = []\n",
    "# depth_all = []\n",
    "\n",
    "# lc_cache_overview, lc_arr = get_cache(\n",
    "#     durations=DURATIONS,\n",
    "#     maxwidth_in_samples=MAXWIDTH_IN_SAMPLES,\n",
    "#     rp=RP_REFERENCE,\n",
    "#     u= df[['aLSM', 'bLSM']].values[0].astype(float)\n",
    "# )\n",
    "\n",
    "\n",
    "# for ttt in range(len(times)):\n",
    "#     T0_start, T0, Tdur, depth, residuals = search_best_fit_duration(\n",
    "#     t=times[ttt],\n",
    "#     y=fluxes[ttt],\n",
    "#     dy=np.full(len(fluxes[ttt]), np.std(fluxes[ttt])),\n",
    "#     transit_depth_min=TRANSIT_DEPTH_MIN,\n",
    "#     lc_arr=lc_arr,\n",
    "#     lc_cache_overview=lc_cache_overview,\n",
    "#     T0_fit_margin=T0_FIT_MARGIN\n",
    "#     )\n",
    "    \n",
    "#     sort_indxs = np.argsort(T0_start)\n",
    "#     break_sort_indxs = np.append([0], np.append(find_breaks(T0_start[sort_indxs], 2), [len(T0_start)]))\n",
    "#     best_resids = np.array([min(residuals[sort_indxs][break_sort_indxs[i]:break_sort_indxs[i+1]]) for i in range(len(break_sort_indxs)-1)])\n",
    "#     best_indx = np.where(best_resids in residuals)[0]\n",
    "# #     new_T0, new_depth, new_Tdur = T0[best_indx], depth[best_indx], Tdur[best_indx]\n",
    "#     T0_all.extend(T0[best_indx])\n",
    "#     depth_all.extend(depth[best_indx])\n",
    "#     Tdur_all.extend(Tdur[best_indx])\n",
    "# print(T0_all, depth_all, Tdur_all)\n",
    "# # fig, (axes1, axes2) = plt.subplots(2, 1, sharex=True, figsize = (20, 10))\n",
    "# # for ttt in range(len(times)):\n",
    "\n",
    "# #     for i in range(len(residuals_total[ttt])):\n",
    "        \n",
    "# #             axes1.plot(times[ttt], residuals_total[ttt][i], color = 'C'+str(i))\n",
    "\n",
    "# # axes2.plot(total_time_tess_spoc, resids_added, color = 'k' )\n",
    "# # plt.show()\n",
    "\n",
    "\n",
    "\n",
    "\n",
    "\n",
    "# # pool = multiprocessing.Pool(processes=self.use_threads)\n",
    "# #             params = partial(\n",
    "# #                 search_best_fit_duration,\n",
    "# #                 t=self.t,\n",
    "# #                 y=self.y,\n",
    "# #                 dy=self.dy,\n",
    "# #                 transit_depth_min=self.transit_depth_min,\n",
    "# #                 lc_arr=lc_arr,\n",
    "# #                 lc_cache_overview=lc_cache_overview,\n",
    "# #                 T0_fit_margin=self.T0_fit_margin,\n",
    "# #             )\n",
    "# #             for data in pool.imap_unordered(params, periods):\n",
    "# #                 test_statistic_periods.append(data[0])\n",
    "# #                 test_statistic_residuals.append(data[1])\n",
    "# #                 test_statistic_rows.append(data[2])\n",
    "# #                 test_statistic_depths.append(data[3])\n",
    "# #                 if self.show_progress_bar:\n",
    "# #                     pbar.update(1)\n",
    "# #             pool.close()\n",
    "            \n",
    "# # test_statistic_periods = numpy.array(test_statistic_periods)\n",
    "# # sort_index = numpy.argsort(test_statistic_periods)\n",
    "# # test_statistic_periods = test_statistic_periods[sort_index]\n",
    "# # test_statistic_residuals = numpy.array(test_statistic_residuals)[sort_index]\n",
    "# # test_statistic_rows = numpy.array(test_statistic_rows)[sort_index]\n",
    "# # test_statistic_depths = numpy.array(test_statistic_depths)[sort_index]"
   ]
  },
  {
   "cell_type": "code",
   "execution_count": 40,
   "id": "c2046e78",
   "metadata": {},
   "outputs": [],
   "source": [
    "from transitleastsquares import (\n",
    "    transitleastsquares,\n",
    "    cleaned_array,\n",
    "    catalog_info,\n",
    "    transit_mask\n",
    "    )\n",
    "\n"
   ]
  },
  {
   "cell_type": "code",
   "execution_count": 41,
   "id": "76b70a4c",
   "metadata": {},
   "outputs": [
    {
     "data": {
      "text/plain": [
       "(0.2581, 0.3609)"
      ]
     },
     "execution_count": 41,
     "metadata": {},
     "output_type": "execute_result"
    }
   ],
   "source": [
    "(float(TOI_904['aLSM']), float(TOI_904['bLSM']))"
   ]
  },
  {
   "cell_type": "code",
   "execution_count": 42,
   "id": "4a88edac",
   "metadata": {},
   "outputs": [
    {
     "data": {
      "text/plain": [
       "array([2, 1])"
      ]
     },
     "execution_count": 42,
     "metadata": {},
     "output_type": "execute_result"
    }
   ],
   "source": [
    "np.array([10, 12, 13])\n",
    "np.diff(np.array([10, 12, 13]))"
   ]
  },
  {
   "cell_type": "code",
   "execution_count": 43,
   "id": "a82f8779",
   "metadata": {},
   "outputs": [],
   "source": [
    "def get_catalog_info(list_ticid, df = False):\n",
    "    if type(df) == bool:\n",
    "        ctlfile = './Total_Mdwarf_files/final_mdwarf_params_new.csv'\n",
    "        mdwarfs = pd.read_csv(ctlfile, iterator =True, chunksize = 100000, index_col=None, header = 0)\n",
    "        df = pd.concat(\n",
    "            [chunk[chunk['TICID'].astype(int).isin(list_ticid)] \n",
    "            for chunk in mdwarfs]\n",
    "        ).reset_index(drop=True)\n",
    "    return (float(df['aLSM']), float(df['bLSM'])), float(df['Mass']), float(df['eMass']), float(df['eMass']), float(df['Rad']), float(df['eRad']), float(df['eRad'])\n",
    "\n",
    "    "
   ]
  },
  {
   "cell_type": "code",
   "execution_count": 44,
   "id": "065e48c4",
   "metadata": {},
   "outputs": [],
   "source": [
    "ab, mass, mass_min, mass_max, radius, radius_min, radius_max = get_catalog_info([261257684], TOI_904)"
   ]
  },
  {
   "cell_type": "code",
   "execution_count": 45,
   "id": "2b634351",
   "metadata": {},
   "outputs": [],
   "source": [
    "def using_TLS_to_find_periodic_signals(time, flux, u, verbose = True, \n",
    "                                       intransit = [],\n",
    "                                       periods = [], T0 = [], Tdur = [], depths = [], first=True):\n",
    "    if first == True:\n",
    "        intransit = np.full(len(time), False)\n",
    "        periods = []\n",
    "        T0 = []\n",
    "        Tdur = []\n",
    "        depths = []\n",
    "\n",
    "    time_new = time[~intransit]\n",
    "    flux_new = flux[~intransit]\n",
    "    if len(time_new)>0:\n",
    "        model = transitleastsquares(time_new, flux_new)\n",
    "        try:\n",
    "            results = model.power(limb_dark='quadratic', u=ab, period_max=400)\n",
    "        except:\n",
    "            print('is the limb darkening good?', ab)\n",
    "            results = model.power(period_max=400)\n",
    "#     print('params', periods, T0, Tdur, depths)\n",
    "\n",
    "        if not np.abs(np.diff(np.array(sorted(results.power))[[-1, -2]]))>2*np.std(np.diff(results.power)) or len(time_new)==0 :\n",
    "            print('done with multis!')\n",
    "\n",
    "            return np.array(periods), np.array(T0), np.array(Tdur), np.array(depths), intransit\n",
    "        else:\n",
    "            intransit = intransit+transit_mask(time, results.period, 2*results.duration, results.T0)\n",
    "            y_new_run = flux[~intransit]\n",
    "            t_new_run = time[~intransit]\n",
    "\n",
    "            if verbose:\n",
    "                plt.figure()\n",
    "                ax = plt.gca()\n",
    "                ax.axvline(results.period, alpha=0.4, lw=3)\n",
    "                plt.xlim(np.min(results.periods), np.max(results.periods))\n",
    "                for n in range(2, 10):\n",
    "                    ax.axvline(n*results.period, alpha=0.4, lw=1, linestyle=\"dashed\")\n",
    "                    ax.axvline(results.period / n, alpha=0.4, lw=1, linestyle=\"dashed\")\n",
    "                plt.ylabel(r'SDE')\n",
    "                plt.xlabel('Period (days)')\n",
    "                plt.plot(results.periods, results.power, color='black', lw=0.4)\n",
    "                plt.xlim(0, max(results.periods));\n",
    "                plt.show()\n",
    "                \n",
    "                plt.figure()\n",
    "                ax = plt.gca()\n",
    "                ax.plot(time, flux, color = 'r' )\n",
    "\n",
    "                ax.plot(t_new_run, y_new_run, \"k\")\n",
    "                ax.set_xlim(time.min(), time.max())\n",
    "                ax.set_xlabel(\"Time (days)\")\n",
    "                ax.set_ylabel(\"Normalized flux\");\n",
    "                plt.show()\n",
    "            depths.append(results.depth)\n",
    "            periods.append(results.period)\n",
    "            T0.append(results.T0)\n",
    "            Tdur.append(results.duration)\n",
    "            return using_TLS_to_find_periodic_signals(time, flux, u, intransit=intransit, verbose = verbose,  periods = periods, T0 = T0, Tdur = Tdur, depths = depths, first = False)\n",
    "\n"
   ]
  },
  {
   "cell_type": "code",
   "execution_count": 46,
   "id": "a7e9e4e5",
   "metadata": {},
   "outputs": [],
   "source": [
    "# print(new_T0)"
   ]
  },
  {
   "cell_type": "code",
   "execution_count": null,
   "id": "36ba714c",
   "metadata": {},
   "outputs": [],
   "source": []
  },
  {
   "cell_type": "code",
   "execution_count": 47,
   "id": "66240807",
   "metadata": {},
   "outputs": [],
   "source": [
    "\n",
    "def get_data(fits_files_lst_for_target):\n",
    "    total_time = []\n",
    "    total_flux = []\n",
    "\n",
    "\n",
    "    for i in fits_files:\n",
    "        hdulist=apf.open(i) #fits time series\n",
    "\n",
    "        tbdata = hdulist[1].data\n",
    "        sector = np.int64(i.split('/')[7].split('_')[4].split('-')[1][1:])\n",
    "        print(sector)\n",
    "        qual         = tbdata.QUALITY == 0\n",
    "\n",
    "        time, flux = tbdata.TIME[qual], tbdata.SAP_FLUX[qual]\n",
    "\n",
    "        flux = flux/np.nanmedian(flux)\n",
    "        flux, time = flux[~np.isnan(flux)], time[~np.isnan(flux)]\n",
    "\n",
    "        cleaned_time, cleaned_flux = cleaning_up_data(time, flux)\n",
    "\n",
    "        flat_flux, flat_trend = flatten_lc(cleaned_time, cleaned_flux)\n",
    "\n",
    "        total_time.extend(cleaned_time)\n",
    "        total_flux.extend(flat_flux)\n",
    "    return total_time, total_flux\n",
    "\n",
    "    "
   ]
  },
  {
   "cell_type": "code",
   "execution_count": null,
   "id": "8dc7f26a",
   "metadata": {},
   "outputs": [],
   "source": []
  },
  {
   "cell_type": "code",
   "execution_count": 48,
   "id": "e0bcff41",
   "metadata": {},
   "outputs": [],
   "source": [
    "def getting_unique_transits(\n",
    "    timesFluxes,\n",
    "    transit_depth_min,\n",
    "    lc_arr,\n",
    "    lc_cache_overview,\n",
    "    T0_fit_margin,\n",
    "    verbose = False\n",
    "):\n",
    "\n",
    "    times, fluxes = timesFluxes[0], timesFluxes[1]\n",
    "\n",
    "\n",
    "    T0_start, T0, Tdur, depth, residuals = search_best_fit_duration(\n",
    "    t=times,\n",
    "    y=fluxes,\n",
    "    dy=np.full(len(fluxes), np.std(fluxes)),\n",
    "    transit_depth_min=TRANSIT_DEPTH_MIN,\n",
    "    lc_arr=lc_arr,\n",
    "    lc_cache_overview=lc_cache_overview,\n",
    "    T0_fit_margin=T0_FIT_MARGIN\n",
    "    )\n",
    "\n",
    "    sort_indxs = np.argsort(T0_start[:min(np.where(np.isnan(T0_start))[0])])\n",
    "\n",
    "    break_sort_indxs = np.array(sorted(list(set(np.append([0], np.append(find_breaks(T0_start[sort_indxs], 2.), [len(T0_start[sort_indxs])-1]))))))\n",
    "    break_sort_indxs = break_sort_indxs[break_sort_indxs>=0]\n",
    "\n",
    "    best_resids = np.array([min(residuals[sort_indxs][break_sort_indxs[i]:break_sort_indxs[i+1]]) for i in range(len(break_sort_indxs)-1)])\n",
    "    best_indx   = np.in1d(residuals, best_resids).nonzero()[0]\n",
    "\n",
    "        \n",
    "    return list(T0[best_indx]), list(Tdur[best_indx]*0.5), list(depth[best_indx])\n",
    "\n",
    "\n"
   ]
  },
  {
   "cell_type": "code",
   "execution_count": null,
   "id": "881476ba",
   "metadata": {},
   "outputs": [],
   "source": []
  },
  {
   "cell_type": "code",
   "execution_count": 49,
   "id": "415dce03",
   "metadata": {},
   "outputs": [],
   "source": [
    "\n",
    "time = total_time_tess_spoc[np.argsort(total_time_tess_spoc)]\n",
    "flux = total_flux_tess_spoc[np.argsort(total_time_tess_spoc)]\n"
   ]
  },
  {
   "cell_type": "code",
   "execution_count": 50,
   "id": "27449687",
   "metadata": {},
   "outputs": [],
   "source": [
    "\n",
    "# df = TOI_904.copy()\n",
    "\n",
    "# resids_added= []\n",
    "# residuals_total = []\n",
    "\n",
    "# time = total_time_tess_spoc[np.argsort(total_time_tess_spoc)]\n",
    "# flux = total_flux_tess_spoc[np.argsort(total_time_tess_spoc)]\n",
    "# periods_multis, T0_multis, Tdur_multis, depth_multis, intransit = using_TLS_to_find_periodic_signals(time, flux, u = ab, verbose = False)\n",
    "\n",
    "# new_time = time[~intransit]\n",
    "# new_flux = flux[~intransit]\n",
    "\n",
    "# times, fluxes, total_sorted_times, total_sorted_flux = beaking_up_data(new_time, new_flux)\n",
    "\n",
    "# lc_cache_overview, lc_arr = get_cache(\n",
    "#     durations=DURATIONS,\n",
    "#     maxwidth_in_samples=MAXWIDTH_IN_SAMPLES,\n",
    "#     rp=RP_REFERENCE,\n",
    "#     u= df[['aLSM', 'bLSM']].values[0].astype(float)\n",
    "# )\n",
    "\n",
    "# print('are we getting anywhere?')\n",
    "# T0_singles, Tdur_singles, depth_singles = getting_unique_transits(\n",
    "#     t=times,\n",
    "#     y=fluxes,\n",
    "#     transit_depth_min=TRANSIT_DEPTH_MIN,\n",
    "#     lc_arr=lc_arr,\n",
    "#     lc_cache_overview=lc_cache_overview,\n",
    "#     T0_fit_margin=T0_FIT_MARGIN\n",
    "#     )\n",
    "\n",
    "\n",
    "\n",
    "\n",
    "# T0_singles\n",
    "# # for ttt in range(len(times)):\n",
    "# #     T0_start, T0, Tdur, depth, residuals = search_best_fit_duration(\n",
    "# #     t=times[ttt],\n",
    "# #     y=fluxes[ttt],\n",
    "# #     dy=np.full(len(fluxes[ttt]), np.std(fluxes[ttt])),\n",
    "# #     transit_depth_min=TRANSIT_DEPTH_MIN,\n",
    "# #     lc_arr=lc_arr,\n",
    "# #     lc_cache_overview=lc_cache_overview,\n",
    "# #     T0_fit_margin=T0_FIT_MARGIN\n",
    "# #     )\n",
    "    \n",
    "# #     sort_indxs = np.argsort(T0_start[:min(np.where(np.isnan(T0_start))[0])])\n",
    "# # #     print(T0_start[sort_indxs])\n",
    "\n",
    "# #     break_sort_indxs = np.array(sorted(list(set(np.append([0], np.append(find_breaks(T0_start[sort_indxs], 2.), [len(T0_start[sort_indxs])-1]))))))\n",
    "# #     break_sort_indxs = break_sort_indxs[break_sort_indxs>=0]\n",
    "# # #     print('final',break_sort_indxs)\n",
    "\n",
    "# # #     print('ugh', [residuals[sort_indxs][break_sort_indxs[i]:break_sort_indxs[i+1]] for i in range(len(break_sort_indxs)-1)])\n",
    "# #     best_resids = np.array([min(residuals[sort_indxs][break_sort_indxs[i]:break_sort_indxs[i+1]]) for i in range(len(break_sort_indxs)-1)])\n",
    "# # #     print('thing', best_resids)\n",
    "# #     best_indx   = np.in1d(residuals, best_resids).nonzero()[0]\n",
    "\n",
    "    \n",
    "# # #     print('best', best_indx)\n",
    "# # #     new_T0, new_depth, new_Tdur = T0[best_indx], depth[best_indx], Tdur[best_indx]\n",
    "# #     T0_singles.extend(T0[best_indx])\n",
    "# #     depth_singles.extend(depth[best_indx])\n",
    "# #     Tdur_singles.extend(Tdur[best_indx]*0.5)\n",
    "# # #     break\n",
    "# # # print(T0_singles, depth_singles, Tdur_singles)\n",
    "    \n",
    "# # # print(len(split_time), len(residuals_total))\n",
    "# # # fig, (axes1, axes2) = plt.subplots(2, 1, sharex=True, figsize = (20, 10))\n",
    "# # # for ttt in range(len(split_time)):\n",
    "\n",
    "# # #     for i in range(len(residuals_total[ttt])):\n",
    "        \n",
    "# # #             axes1.plot(split_time[ttt], residuals_total[ttt][i], color = 'C'+str(i))\n",
    "\n",
    "# # # axes2.plot(new_time, resids_added, color = 'k' )\n",
    "# # # plt.show()\n",
    "\n",
    "\n",
    "# # T0_all = [T0_multis, T0_singles]\n",
    "# # Tdur_all = [Tdur_multis, Tdur_singles]\n",
    "\n",
    "# # depth_all = [depth_multis, depth_singles]\n",
    "\n",
    "# # # pool = multiprocessing.Pool(processes=self.use_threads)\n",
    "# # #             params = partial(\n",
    "# # #                 search_best_fit_duration,\n",
    "# # #                 t=self.t,\n",
    "# # #                 y=self.y,\n",
    "# # #                 dy=self.dy,\n",
    "# # #                 transit_depth_min=self.transit_depth_min,\n",
    "# # #                 lc_arr=lc_arr,\n",
    "# # #                 lc_cache_overview=lc_cache_overview,\n",
    "# # #                 T0_fit_margin=self.T0_fit_margin,\n",
    "# # #             )\n",
    "# # #             for data in pool.imap_unordered(params, periods):\n",
    "# # #                 test_statistic_periods.append(data[0])\n",
    "# # #                 test_statistic_residuals.append(data[1])\n",
    "# # #                 test_statistic_rows.append(data[2])\n",
    "# # #                 test_statistic_depths.append(data[3])\n",
    "# # #                 if self.show_progress_bar:\n",
    "# # #                     pbar.update(1)\n",
    "# # #             pool.close()\n",
    "            \n",
    "# # # test_statistic_periods = numpy.array(test_statistic_periods)\n",
    "# # # sort_index = numpy.argsort(test_statistic_periods)\n",
    "# # # test_statistic_periods = test_statistic_periods[sort_index]\n",
    "# # # test_statistic_residuals = numpy.array(test_statistic_residuals)[sort_index]\n",
    "# # # test_statistic_rows = numpy.array(test_statistic_rows)[sort_index]\n",
    "# # # test_statistic_depths = numpy.array(test_statistic_depths)[sort_index]"
   ]
  },
  {
   "cell_type": "code",
   "execution_count": 51,
   "id": "9883c7d5",
   "metadata": {
    "scrolled": true
   },
   "outputs": [],
   "source": [
    "\n",
    "# df = TOI_904.copy()\n",
    "\n",
    "# resids_added= []\n",
    "# residuals_total = []\n",
    "# verbose = False\n",
    "# time = total_time_tess_spoc[np.argsort(total_time_tess_spoc)]\n",
    "# flux = total_flux_tess_spoc[np.argsort(total_time_tess_spoc)]\n",
    "# periods_multis, T0_multis, Tdur_multis, depth_multis, intransit = using_TLS_to_find_periodic_signals(time, flux, u = ab, verbose = False)\n",
    "\n",
    "# new_time = time[~intransit]\n",
    "# new_flux = flux[~intransit]\n",
    "\n",
    "# split_times, split_fluxes, total_sorted_times, total_sorted_flux = breaking_up_data(new_time, new_flux)\n",
    "\n",
    "# tf = []\n",
    "# for mmm in range(len(split_times)):\n",
    "#     tf.append([split_times[mmm], split_fluxes[mmm]])\n",
    "\n",
    "# lc_cache_overview, lc_arr = get_cache(\n",
    "#     durations=DURATIONS,\n",
    "#     maxwidth_in_samples=MAXWIDTH_IN_SAMPLES,\n",
    "#     rp=RP_REFERENCE,\n",
    "#     u= df[['aLSM', 'bLSM']].values[0].astype(float)\n",
    "# )\n",
    "\n",
    "\n",
    "# T0_singles    = []\n",
    "# Tdur_singles  = []\n",
    "# depth_singles = []\n",
    "\n",
    "\n",
    "\n",
    "# pool = multiprocessing.Pool(processes=12)\n",
    "# params = partial(\n",
    "#         getting_unique_transits,\n",
    "#         transit_depth_min=TRANSIT_DEPTH_MIN,\n",
    "#         lc_arr=lc_arr,\n",
    "#         lc_cache_overview=lc_cache_overview,\n",
    "#         T0_fit_margin=T0_FIT_MARGIN\n",
    "#     )\n",
    "\n",
    "# for data in pool.imap_unordered(params, tf):\n",
    "#     T0_singles.extend(data[0])\n",
    "#     Tdur_singles.extend(data[1])\n",
    "#     depth_singles.extend(data[2])\n",
    "#     if verbose == True:\n",
    "#         pbar.update(1)\n",
    "# pool.close()\n",
    "\n",
    "# T0_singles = np.array(T0_singles)\n",
    "# # print(T0_singles)\n",
    "# sort_index = np.argsort(T0_singles)\n",
    "# depth_singles = np.array(depth_singles)[sort_index]\n",
    "# Tdur_singles = np.array(Tdur_singles)[sort_index]\n",
    "\n",
    "# T0_all = [T0_multis, T0_singles]\n",
    "# Tdur_all = [Tdur_multis, Tdur_singles]\n",
    "\n",
    "# depth_all = [depth_multis, depth_singles]\n",
    "\n",
    "\n"
   ]
  },
  {
   "cell_type": "code",
   "execution_count": null,
   "id": "eaed11c9",
   "metadata": {},
   "outputs": [],
   "source": []
  },
  {
   "cell_type": "code",
   "execution_count": null,
   "id": "f4f5f564",
   "metadata": {},
   "outputs": [],
   "source": []
  },
  {
   "cell_type": "code",
   "execution_count": 56,
   "id": "2bed4472",
   "metadata": {},
   "outputs": [
    {
     "name": "stdout",
     "output_type": "stream",
     "text": [
      "Transit Least Squares TLS 1.0.31 (22 Nov 2021)\n",
      "Creating model cache for 61 durations\n",
      "Searching 12277 data points, 94594 periods from 0.602 to 379.726 days\n",
      "Using all 12 CPU threads\n"
     ]
    },
    {
     "name": "stderr",
     "output_type": "stream",
     "text": [
      "100%|████████████████████████████████████████| 94594/94594 periods | 05:45<00:00\n"
     ]
    },
    {
     "name": "stdout",
     "output_type": "stream",
     "text": [
      "Searching for best T0 for period 10.87726 days\n"
     ]
    },
    {
     "name": "stderr",
     "output_type": "stream",
     "text": [
      "100%|█████████████████████████████████████| 8832/8832 [00:01<00:00, 5554.14it/s]\n"
     ]
    },
    {
     "name": "stdout",
     "output_type": "stream",
     "text": [
      "0.013822456771939393\n",
      "Transit Least Squares TLS 1.0.31 (22 Nov 2021)\n",
      "Creating model cache for 61 durations\n",
      "Searching 12226 data points, 94594 periods from 0.602 to 379.726 days\n",
      "Using all 12 CPU threads\n"
     ]
    },
    {
     "name": "stderr",
     "output_type": "stream",
     "text": [
      "100%|████████████████████████████████████████| 94594/94594 periods | 05:33<00:00\n"
     ]
    },
    {
     "name": "stdout",
     "output_type": "stream",
     "text": [
      "Searching for best T0 for period 10.87726 days\n"
     ]
    },
    {
     "name": "stderr",
     "output_type": "stream",
     "text": [
      "100%|███████████████████████████████████| 12226/12226 [00:02<00:00, 5583.93it/s]\n"
     ]
    },
    {
     "name": "stdout",
     "output_type": "stream",
     "text": [
      "Transit Least Squares TLS 1.0.31 (22 Nov 2021)\n",
      "Creating model cache for 61 durations\n",
      "Searching 12210 data points, 94594 periods from 0.602 to 379.726 days\n",
      "Using all 12 CPU threads\n"
     ]
    },
    {
     "name": "stderr",
     "output_type": "stream",
     "text": [
      "100%|████████████████████████████████████████| 94594/94594 periods | 05:36<00:00\n"
     ]
    },
    {
     "name": "stdout",
     "output_type": "stream",
     "text": [
      "Searching for best T0 for period 84.00106 days\n"
     ]
    },
    {
     "name": "stderr",
     "output_type": "stream",
     "text": [
      "100%|███████████████████████████████████| 12210/12210 [00:01<00:00, 7730.37it/s]\n"
     ]
    },
    {
     "name": "stdout",
     "output_type": "stream",
     "text": [
      "Transit Least Squares TLS 1.0.31 (22 Nov 2021)\n",
      "Creating model cache for 61 durations\n",
      "Searching 12169 data points, 94594 periods from 0.602 to 379.726 days\n",
      "Using all 12 CPU threads\n"
     ]
    },
    {
     "name": "stderr",
     "output_type": "stream",
     "text": [
      "100%|████████████████████████████████████████| 94594/94594 periods | 05:12<00:00\n"
     ]
    },
    {
     "name": "stdout",
     "output_type": "stream",
     "text": [
      "Searching for best T0 for period 10.87726 days\n"
     ]
    },
    {
     "name": "stderr",
     "output_type": "stream",
     "text": [
      "100%|███████████████████████████████████| 12169/12169 [00:02<00:00, 5551.29it/s]\n"
     ]
    }
   ],
   "source": [
    "# model = transitleastsquares(time, flux)\n",
    "# results = model.power()\n",
    "\n",
    "# print(results.duration)\n",
    "# intransit = transit_mask(time, results.period, 3*results.duration, results.T0)\n",
    "\n",
    "# time2 = time[~intransit]\n",
    "# flux2 =  flux[~intransit]\n",
    "\n",
    "# model2 = transitleastsquares(time2, flux2)\n",
    "# results2 = model2.power()\n",
    "\n",
    "\n",
    "# intransit2 = transit_mask(time2, results2.period, 3*results2.duration, results2.T0)\n",
    "\n",
    "# time3 = time2[~intransit2]\n",
    "# flux3 =  flux2[~intransit2]\n",
    "\n",
    "# model3 = transitleastsquares(time3, flux3)\n",
    "# results3 = model3.power()\n",
    "\n",
    "\n",
    "# intransit3 = transit_mask(time3, results3.period, 2.5*results3.duration, results3.T0)\n",
    "\n",
    "# time4 = time3[~intransit3]\n",
    "# flux4 =  flux3[~intransit3]\n",
    "\n",
    "# model4 = transitleastsquares(time4, flux4)\n",
    "# results4 = model4.power()\n"
   ]
  },
  {
   "cell_type": "code",
   "execution_count": 95,
   "id": "e55fce2b",
   "metadata": {},
   "outputs": [
    {
     "data": {
      "image/png": "[encoded data removed]",
      "text/plain": [
       "<Figure size 864x720 with 1 Axes>"
      ]
     },
     "metadata": {
      "needs_background": "dark"
     },
     "output_type": "display_data"
    }
   ],
   "source": [
    "plt.figure(figsize = (12,10))\n",
    "ax = plt.gca()\n",
    "ax.axvline(results.period, alpha=0.6, lw=7, color = 'peru')\n",
    "ax.axvline(results3.period, alpha=0.6, lw=7, color = 'turquoise')\n",
    "\n",
    "plt.xlim(np.min(results.periods), np.max(results.periods))\n",
    "for n in range(2, 10):\n",
    "    ax.axvline(n*results.period, alpha=0.15, lw=4, linestyle=\"dashed\", color = 'peru')\n",
    "    ax.axvline(results.period / n, alpha=0.15, lw=4, linestyle=\"dashed\", color = 'peru')\n",
    "for n in range(2, 10):\n",
    "    ax.axvline(n*results3.period, alpha=0.15, lw=4, linestyle=\"dashed\", color = 'turquoise')\n",
    "    ax.axvline(results3.period / n, alpha=0.15, lw=4, linestyle=\"dashed\", color = 'turquoise')\n",
    "\n",
    "plt.ylabel(r'SDE', fontsize = 30, color = 'white')\n",
    "plt.xlabel('Period (days)', fontsize = 30, color = 'white')\n",
    "plt.plot(results.periods, results.power, color='black', lw=1)\n",
    "# plt.plot(results3.periods, results3.power, color='teal', lw=0.5, alpha = 0.5)\n",
    "plt.tick_params(labelsize=24, length = 9, color = 'white', labelcolor = 'white')\n",
    "\n",
    "plt.xlim(0, 100);\n",
    "plt.show()\n",
    "\n",
    "# plt.figure()\n",
    "# ax = plt.gca()\n",
    "# ax.plot(time, flux, color = 'r' )\n",
    "\n",
    "# ax.plot(time2, flux2, \"k\")\n",
    "# ax.set_xlim(time2.min(), time2.max())\n",
    "# ax.set_xlabel(\"Time (days)\")\n",
    "# ax.set_ylabel(\"Normalized flux\");\n",
    "# plt.show()\n"
   ]
  },
  {
   "cell_type": "code",
   "execution_count": 58,
   "id": "7f8be7d7",
   "metadata": {},
   "outputs": [],
   "source": [
    "# intransit3 = transit_mask(time3, results3.period, 2.5*results3.duration, results3.T0)\n",
    "\n",
    "# time4 = time3[~intransit3]\n",
    "# flux4 =  flux3[~intransit3]\n",
    "\n",
    "# model4 = transitleastsquares(time4, flux4)\n",
    "# results4 = model4.power()\n",
    "intransit4 = transit_mask(time4, results4.period, 2.5*results4.duration, results4.T0)\n"
   ]
  },
  {
   "cell_type": "code",
   "execution_count": null,
   "id": "1e879217",
   "metadata": {},
   "outputs": [],
   "source": []
  },
  {
   "cell_type": "code",
   "execution_count": 55,
   "id": "6483294a",
   "metadata": {
    "scrolled": false
   },
   "outputs": [
    {
     "name": "stdout",
     "output_type": "stream",
     "text": [
      "Transit Least Squares TLS 1.0.31 (22 Nov 2021)\n",
      "Creating model cache for 61 durations\n",
      "Searching 12277 data points, 94594 periods from 0.602 to 379.726 days\n",
      "Using all 12 CPU threads\n"
     ]
    },
    {
     "name": "stderr",
     "output_type": "stream",
     "text": [
      "100%|████████████████████████████████████████| 94594/94594 periods | 15:07<00:00\n"
     ]
    },
    {
     "name": "stdout",
     "output_type": "stream",
     "text": [
      "Searching for best T0 for period 10.87726 days\n"
     ]
    },
    {
     "name": "stderr",
     "output_type": "stream",
     "text": [
      "100%|█████████████████████████████████████| 8832/8832 [00:03<00:00, 2570.19it/s]\n"
     ]
    },
    {
     "data": {
      "image/png": "[encoded data removed]",
      "text/plain": [
       "<Figure size 432x288 with 1 Axes>"
      ]
     },
     "metadata": {
      "needs_background": "light"
     },
     "output_type": "display_data"
    },
    {
     "data": {
      "image/png": "[encoded data removed]",
      "text/plain": [
       "<Figure size 432x288 with 1 Axes>"
      ]
     },
     "metadata": {
      "needs_background": "light"
     },
     "output_type": "display_data"
    },
    {
     "name": "stdout",
     "output_type": "stream",
     "text": [
      "Transit Least Squares TLS 1.0.31 (22 Nov 2021)\n",
      "Creating model cache for 61 durations\n",
      "Searching 12244 data points, 94594 periods from 0.602 to 379.726 days\n",
      "Using all 12 CPU threads\n"
     ]
    },
    {
     "name": "stderr",
     "output_type": "stream",
     "text": [
      "100%|████████████████████████████████████████| 94594/94594 periods | 08:27<00:00\n"
     ]
    },
    {
     "name": "stdout",
     "output_type": "stream",
     "text": [
      "Searching for best T0 for period 10.87726 days\n"
     ]
    },
    {
     "name": "stderr",
     "output_type": "stream",
     "text": [
      "100%|███████████████████████████████████| 11773/11773 [00:02<00:00, 5618.86it/s]\n"
     ]
    },
    {
     "data": {
      "image/png": "[encoded data removed]",
      "text/plain": [
       "<Figure size 432x288 with 1 Axes>"
      ]
     },
     "metadata": {
      "needs_background": "light"
     },
     "output_type": "display_data"
    },
    {
     "data": {
      "image/png": "[encoded data removed]",
      "text/plain": [
       "<Figure size 432x288 with 1 Axes>"
      ]
     },
     "metadata": {
      "needs_background": "light"
     },
     "output_type": "display_data"
    },
    {
     "name": "stdout",
     "output_type": "stream",
     "text": [
      "Transit Least Squares TLS 1.0.31 (22 Nov 2021)\n",
      "Creating model cache for 61 durations\n",
      "Searching 12228 data points, 94594 periods from 0.602 to 379.726 days\n",
      "Using all 12 CPU threads\n"
     ]
    },
    {
     "name": "stderr",
     "output_type": "stream",
     "text": [
      "100%|████████████████████████████████████████| 94594/94594 periods | 05:34<00:00\n"
     ]
    },
    {
     "name": "stdout",
     "output_type": "stream",
     "text": [
      "Searching for best T0 for period 10.87726 days\n"
     ]
    },
    {
     "name": "stderr",
     "output_type": "stream",
     "text": [
      "100%|███████████████████████████████████| 12228/12228 [00:02<00:00, 5595.68it/s]\n"
     ]
    },
    {
     "data": {
      "image/png": "[encoded data removed]",
      "text/plain": [
       "<Figure size 432x288 with 1 Axes>"
      ]
     },
     "metadata": {
      "needs_background": "light"
     },
     "output_type": "display_data"
    },
    {
     "data": {
      "image/png": "[encoded data removed]",
      "text/plain": [
       "<Figure size 432x288 with 1 Axes>"
      ]
     },
     "metadata": {
      "needs_background": "light"
     },
     "output_type": "display_data"
    },
    {
     "name": "stdout",
     "output_type": "stream",
     "text": [
      "Transit Least Squares TLS 1.0.31 (22 Nov 2021)\n",
      "Creating model cache for 61 durations\n",
      "Searching 12209 data points, 94594 periods from 0.602 to 379.726 days\n",
      "Using all 12 CPU threads\n"
     ]
    },
    {
     "name": "stderr",
     "output_type": "stream",
     "text": [
      "100%|████████████████████████████████████████| 94594/94594 periods | 10:47<00:00\n"
     ]
    },
    {
     "name": "stdout",
     "output_type": "stream",
     "text": [
      "Searching for best T0 for period 84.00106 days\n"
     ]
    },
    {
     "name": "stderr",
     "output_type": "stream",
     "text": [
      "100%|███████████████████████████████████| 12209/12209 [00:03<00:00, 3941.06it/s]\n"
     ]
    },
    {
     "data": {
      "image/png": "[encoded data removed]",
      "text/plain": [
       "<Figure size 432x288 with 1 Axes>"
      ]
     },
     "metadata": {
      "needs_background": "light"
     },
     "output_type": "display_data"
    },
    {
     "data": {
      "image/png": "[encoded data removed]",
      "text/plain": [
       "<Figure size 432x288 with 1 Axes>"
      ]
     },
     "metadata": {
      "needs_background": "light"
     },
     "output_type": "display_data"
    },
    {
     "name": "stdout",
     "output_type": "stream",
     "text": [
      "Transit Least Squares TLS 1.0.31 (22 Nov 2021)\n",
      "Creating model cache for 61 durations\n",
      "Searching 12176 data points, 94594 periods from 0.602 to 379.726 days\n",
      "Using all 12 CPU threads\n"
     ]
    },
    {
     "name": "stderr",
     "output_type": "stream",
     "text": [
      "100%|████████████████████████████████████████| 94594/94594 periods | 15:13<00:00\n"
     ]
    },
    {
     "name": "stdout",
     "output_type": "stream",
     "text": [
      "Searching for best T0 for period 10.87726 days\n"
     ]
    },
    {
     "name": "stderr",
     "output_type": "stream",
     "text": [
      "100%|███████████████████████████████████| 12176/12176 [00:04<00:00, 2856.00it/s]\n"
     ]
    },
    {
     "data": {
      "image/png": "[encoded data removed]",
      "text/plain": [
       "<Figure size 432x288 with 1 Axes>"
      ]
     },
     "metadata": {
      "needs_background": "light"
     },
     "output_type": "display_data"
    },
    {
     "data": {
      "image/png": "[encoded data removed]",
      "text/plain": [
       "<Figure size 432x288 with 1 Axes>"
      ]
     },
     "metadata": {
      "needs_background": "light"
     },
     "output_type": "display_data"
    },
    {
     "name": "stdout",
     "output_type": "stream",
     "text": [
      "Transit Least Squares TLS 1.0.31 (22 Nov 2021)\n",
      "Creating model cache for 61 durations\n",
      "Searching 12165 data points, 94594 periods from 0.602 to 379.726 days\n",
      "Using all 12 CPU threads\n"
     ]
    },
    {
     "name": "stderr",
     "output_type": "stream",
     "text": [
      "100%|████████████████████████████████████████| 94594/94594 periods | 07:02<00:00\n"
     ]
    },
    {
     "name": "stdout",
     "output_type": "stream",
     "text": [
      "Searching for best T0 for period 10.87726 days\n"
     ]
    },
    {
     "name": "stderr",
     "output_type": "stream",
     "text": [
      "100%|███████████████████████████████████| 12165/12165 [00:03<00:00, 3301.46it/s]\n"
     ]
    },
    {
     "data": {
      "image/png": "[encoded data removed]",
      "text/plain": [
       "<Figure size 432x288 with 1 Axes>"
      ]
     },
     "metadata": {
      "needs_background": "light"
     },
     "output_type": "display_data"
    },
    {
     "data": {
      "image/png": "[encoded data removed]",
      "text/plain": [
       "<Figure size 432x288 with 1 Axes>"
      ]
     },
     "metadata": {
      "needs_background": "light"
     },
     "output_type": "display_data"
    },
    {
     "name": "stdout",
     "output_type": "stream",
     "text": [
      "Transit Least Squares TLS 1.0.31 (22 Nov 2021)\n",
      "Creating model cache for 61 durations\n",
      "Searching 12155 data points, 94594 periods from 0.602 to 379.726 days\n",
      "Using all 12 CPU threads\n"
     ]
    },
    {
     "name": "stderr",
     "output_type": "stream",
     "text": [
      "100%|████████████████████████████████████████| 94594/94594 periods | 06:41<00:00\n"
     ]
    },
    {
     "name": "stdout",
     "output_type": "stream",
     "text": [
      "Searching for best T0 for period 28.27556 days\n"
     ]
    },
    {
     "name": "stderr",
     "output_type": "stream",
     "text": [
      "100%|███████████████████████████████████| 12155/12155 [00:03<00:00, 3610.91it/s]\n"
     ]
    },
    {
     "name": "stdout",
     "output_type": "stream",
     "text": [
      "done with multis!\n"
     ]
    },
    {
     "data": {
      "text/plain": [
       "(array([10.8772572, 10.8772572, 10.8772572, 84.0010637, 10.8772572,\n",
       "        10.8772572]),\n",
       " array([1637.84356498, 1637.85760224, 1637.8240537 , 1630.34494153,\n",
       "        1637.87153796, 1637.81314114]),\n",
       " array([0.01382246, 0.0103571 , 0.0085484 , 0.04937671, 0.00703475,\n",
       "        0.00580859]),\n",
       " array([0.99836849, 0.9984306 , 0.99852441, 0.99846498, 0.99861723,\n",
       "        0.99862422]),\n",
       " array([False, False,  True, ..., False, False, False]))"
      ]
     },
     "execution_count": 55,
     "metadata": {},
     "output_type": "execute_result"
    }
   ],
   "source": [
    "# using_TLS_to_find_periodic_signals(time, flux, ab, verbose = True, \n",
    "#                                        intransit = [],\n",
    "#                                        periods = [], T0 = [], Tdur = [], depths = [], first=True)"
   ]
  },
  {
   "cell_type": "code",
   "execution_count": null,
   "id": "d91e5464",
   "metadata": {},
   "outputs": [],
   "source": []
  }
 ],
 "metadata": {
  "kernelspec": {
   "display_name": "Python 3 (ipykernel)",
   "language": "python",
   "name": "python3"
  },
  "language_info": {
   "codemirror_mode": {
    "name": "ipython",
    "version": 3
   },
   "file_extension": ".py",
   "mimetype": "text/x-python",
   "name": "python",
   "nbconvert_exporter": "python",
   "pygments_lexer": "ipython3",
   "version": "3.7.3"
  }
 },
 "nbformat": 4,
 "nbformat_minor": 5
}
