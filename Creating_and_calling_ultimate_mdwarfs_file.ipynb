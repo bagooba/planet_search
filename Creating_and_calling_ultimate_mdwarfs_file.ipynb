{
 "cells": [
  {
   "cell_type": "code",
   "execution_count": 3,
   "id": "39935a4e",
   "metadata": {},
   "outputs": [
    {
     "data": {
      "text/html": [
       "\n",
       "<style>\n",
       "    div#notebook-container    { width: 80%; }\n",
       "    div#menubar-container     { width: 65%; }\n",
       "    div#maintoolbar-container { width: 99%; }\n",
       "</style>\n"
      ],
      "text/plain": [
       "<IPython.core.display.HTML object>"
      ]
     },
     "metadata": {},
     "output_type": "display_data"
    }
   ],
   "source": [
    "import glob\n",
    "import numpy as np\n",
    "#import tkinter\n",
    "import matplotlib\n",
    "#try:\n",
    "#    matplotlib.use('TkAgg')\n",
    "#except ImportError:\n",
    "#    print(\"TkAgg error did occur\")\n",
    "from matplotlib import pyplot as plt\n",
    "from matplotlib import gridspec\n",
    "from scipy.signal import medfilt\n",
    "import pandas as pd\n",
    "#from mostutils import Processing\n",
    "import astropy.io.fits as apf\n",
    "import sys\n",
    "import getpass\n",
    "import emcee\n",
    "import corner\n",
    "from multiprocessing import Pool\n",
    "import os\n",
    "from pathlib import Path\n",
    "# import random as rd\n",
    "import time as tm\n",
    "import math\n",
    "from wotan import flatten\n",
    "from IPython.display import display, HTML\n",
    "\n",
    "display(HTML(data=\"\"\"\n",
    "<style>\n",
    "    div#notebook-container    { width: 80%; }\n",
    "    div#menubar-container     { width: 65%; }\n",
    "    div#maintoolbar-container { width: 99%; }\n",
    "</style>\n",
    "\"\"\"))\n",
    "\n",
    "\n"
   ]
  },
  {
   "cell_type": "code",
   "execution_count": null,
   "id": "ad19b4f1",
   "metadata": {},
   "outputs": [],
   "source": []
  },
  {
   "cell_type": "code",
   "execution_count": 4,
   "id": "c4168f25",
   "metadata": {},
   "outputs": [],
   "source": [
    "def get_tic_info(ticid): \n",
    "    # Written by Steven Villanueva Jr\n",
    "    # Contributed to by Mallory Harris \n",
    "\n",
    "    # Description: retrieve useful parameters from the TESS input catalog for an individual star\n",
    "\n",
    "\n",
    "    # Arguments : ticid = TIC star identification number\n",
    "\n",
    "    # \n",
    "    # Return     : parameters of star (location, magnitude, mass, radius, temp and errors)\n",
    "\n",
    "    infile = '../..' #path to TIC file\n",
    "    dframe = pd.read_csv(infile,header=1,usecols=[0,13,14,30,42,60,64,65,70,71,72,73],names=['tic','RA','DEC','Vmag','Jmag','Tmag','Teff','eTeff','Rad','eRad','Mass','eMass'],dtype={'tic':'str' , 'RA':'float' , 'DEC':'float' , 'Vmag':'float', 'Jmag':'float','Tmag':'float','Teff':'float','eTeff':'float','Rad':'float','eRad':'float','Mass':'float','eMass':'float'},index_col=False)\n",
    "    match  = np.where(str(ticid) == dframe['tic'])\n",
    "    #print(match)\n",
    "    if len(match) != 1:\n",
    "    #if match.size <= 0:\n",
    "        print('error in tic match')\n",
    "    #elif np.isfinite(match[0]) != True:\n",
    "    #elif np.isfinite(match[0]) != True:\n",
    "        #print('error in the tic match')\n",
    "    else:\n",
    "        ra    = float(dframe['RA'][match[0]])\n",
    "        dec   = float(dframe['DEC'][match[0]])\n",
    "        Vmag  = float(dframe['Vmag'][match[0]])\n",
    "        Jmag  = float(dframe['Jmag'][match[0]])\n",
    "        Tmag  = float(dframe['Tmag'][match[0]])\n",
    "        Teff  = float(dframe['Teff'][match[0]])\n",
    "        eTeff = float(dframe['eTeff'][match[0]])\n",
    "        Rad   = float(dframe['Rad'][match[0]])\n",
    "        eRad  = float(dframe['eRad'][match[0]])\n",
    "        Mass  = float(dframe['Mass'][match[0]])\n",
    "        eMass = float(dframe['eMass'][match[0]])\n",
    "\n",
    "    return ra,dec,Vmag,Jmag,Tmag,Teff,eTeff,Rad,eRad,Mass,eMass\n"
   ]
  }
 ],
 "metadata": {
  "kernelspec": {
   "display_name": "Python 3 (ipykernel)",
   "language": "python",
   "name": "python3"
  },
  "language_info": {
   "codemirror_mode": {
    "name": "ipython",
    "version": 3
   },
   "file_extension": ".py",
   "mimetype": "text/x-python",
   "name": "python",
   "nbconvert_exporter": "python",
   "pygments_lexer": "ipython3",
   "version": "3.7.3"
  }
 },
 "nbformat": 4,
 "nbformat_minor": 5
}
