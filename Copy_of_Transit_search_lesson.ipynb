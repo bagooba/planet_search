{
  "cells": [
    {
      "cell_type": "markdown",
      "metadata": {
        "id": "view-in-github",
        "colab_type": "text"
      },
      "source": [
        "<a href=\"https://colab.research.google.com/github/bagooba/planet_search/blob/main/Copy_of_Transit_search_lesson.ipynb\" target=\"_parent\"><img src=\"https://colab.research.google.com/assets/colab-badge.svg\" alt=\"Open In Colab\"/></a>"
      ]
    },
    {
      "cell_type": "code",
      "source": [
        "# !pip install wotan transitleastsquares"
      ],
      "metadata": {
        "id": "GwUMyHWTcEg2"
      },
      "id": "GwUMyHWTcEg2",
      "execution_count": null,
      "outputs": []
    },
    {
      "cell_type": "code",
      "execution_count": null,
      "id": "5d105ce9-f44c-4957-bfa8-0c577f92fef8",
      "metadata": {
        "scrolled": true,
        "id": "5d105ce9-f44c-4957-bfa8-0c577f92fef8"
      },
      "outputs": [],
      "source": [
        "from All_functions import *\n",
        "time_flux = pick_your_lightcurves_gui()"
      ]
    },
    {
      "cell_type": "code",
      "execution_count": null,
      "id": "0fff619c-fa5e-4151-88b0-4a3c715154fc",
      "metadata": {
        "scrolled": true,
        "id": "0fff619c-fa5e-4151-88b0-4a3c715154fc"
      },
      "outputs": [],
      "source": [
        "time, flux = time_flux.result\n",
        "flattened_tf = playing_with_detrending_gui(time, flux)"
      ]
    },
    {
      "cell_type": "code",
      "execution_count": null,
      "id": "ff416d93-bb8e-4d69-b28f-b3d8076943ec",
      "metadata": {
        "id": "ff416d93-bb8e-4d69-b28f-b3d8076943ec"
      },
      "outputs": [],
      "source": [
        "flat_time, flat_flux = flattened_tf.result\n",
        "planet_params = finding_all_transits_gui(flat_time, flat_flux)"
      ]
    },
    {
      "cell_type": "code",
      "execution_count": null,
      "id": "e8d48d81-ec18-4d75-8c07-df0220911ed2",
      "metadata": {
        "id": "e8d48d81-ec18-4d75-8c07-df0220911ed2"
      },
      "outputs": [],
      "source": [
        "BLS_t0, BLS_per = showing_BLS_for_planet(flat_time, flat_flux)"
      ]
    },
    {
      "cell_type": "code",
      "execution_count": null,
      "id": "2729e608-945b-4180-a440-8a5849f24df1",
      "metadata": {
        "id": "2729e608-945b-4180-a440-8a5849f24df1"
      },
      "outputs": [],
      "source": [
        "print('Now, lets try to use that period and t0 val to learn more about the transit!')\n",
        "\n",
        "t0, per = planet_params.result\n",
        "model_params = modeling_transits_gui(flat_time, flat_flux, t0, per)"
      ]
    },
    {
      "cell_type": "code",
      "execution_count": null,
      "id": "e980a3a7-7aa6-41ad-9d43-1465be49bac5",
      "metadata": {
        "id": "e980a3a7-7aa6-41ad-9d43-1465be49bac5"
      },
      "outputs": [],
      "source": [
        "print('If the BLS periodic search did not find the same period as you did, try dividing the two values. You might just find that this results in an integer! This is because the periodic search may have found an alias of the real period, but it still found something very close to true!')\n",
        "\n",
        "\n",
        "model_parameters = model_params.result\n",
        "period = model_parameters[1]\n",
        "\n",
        "BLS_per/period"
      ]
    },
    {
      "cell_type": "code",
      "execution_count": null,
      "id": "5eb44b24-6a2a-4dc6-93ce-23391aeaf186",
      "metadata": {
        "id": "5eb44b24-6a2a-4dc6-93ce-23391aeaf186"
      },
      "outputs": [],
      "source": []
    }
  ],
  "metadata": {
    "kernelspec": {
      "display_name": "Python 3 (ipykernel)",
      "language": "python",
      "name": "python3"
    },
    "language_info": {
      "codemirror_mode": {
        "name": "ipython",
        "version": 3
      },
      "file_extension": ".py",
      "mimetype": "text/x-python",
      "name": "python",
      "nbconvert_exporter": "python",
      "pygments_lexer": "ipython3",
      "version": "3.13.5"
    },
    "colab": {
      "provenance": [],
      "include_colab_link": true
    }
  },
  "nbformat": 4,
  "nbformat_minor": 5
}