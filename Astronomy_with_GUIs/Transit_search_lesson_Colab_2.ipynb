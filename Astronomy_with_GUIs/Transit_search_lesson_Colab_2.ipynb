{
  "cells": [
    {
      "cell_type": "markdown",
      "metadata": {
        "id": "view-in-github",
        "colab_type": "text"
      },
      "source": [
        "<a href=\"https://colab.research.google.com/github/bagooba/planet_search/blob/main/Transit_search_lesson_Colab.ipynb\" target=\"_parent\"><img src=\"https://colab.research.google.com/assets/colab-badge.svg\" alt=\"Open In Colab\"/></a>"
      ]
    },
    {
      "cell_type": "code",
      "source": [
        "# !pip install wotan transitleastsquares"
      ],
      "metadata": {
        "id": "GwUMyHWTcEg2"
      },
      "id": "GwUMyHWTcEg2",
      "execution_count": 6,
      "outputs": []
    },
    {
      "cell_type": "code",
      "execution_count": 7,
      "id": "5d105ce9-f44c-4957-bfa8-0c577f92fef8",
      "metadata": {
        "scrolled": true,
        "id": "5d105ce9-f44c-4957-bfa8-0c577f92fef8",
        "outputId": "d6ade53c-6ea9-4ba7-8c5a-56d0ef29ff5b",
        "colab": {
          "referenced_widgets": [
            "97d7d03f0d9a45b089de7369980ad320",
            "823f0758b42d4f13a6f0e37dc4775227",
            "37ef056db5a14f3a86e468cdf1429739",
            "4ca02a0ab1484556ba4e1523cafade21",
            "489aa06ecdf945e9b0c731943c6e0a5d",
            "19c18e3eaab94f63bee08961bfbb5435",
            "d81b199b8dd8425e8881a188ec428406"
          ],
          "base_uri": "https://localhost:8080/",
          "height": 123
        }
      },
      "outputs": [
        {
          "output_type": "stream",
          "name": "stdout",
          "text": [
            "Hello there! Lets start by selecting the set of light curves you want to work with. There are 3 sets, labeled numerically. \n",
            " Each contains 5 light curves, 2 or 3 of which include transiting planet signals. \n",
            " Your mission: find out which light curve includes a transiting planet signal, and then try and fit that transit so we can learn about the planet!\n"
          ]
        },
        {
          "output_type": "display_data",
          "data": {
            "text/plain": [
              "interactive(children=(Dropdown(description='Select your light curve adventure:', options=((' ', 0), ('One', 1)…"
            ],
            "application/vnd.jupyter.widget-view+json": {
              "version_major": 2,
              "version_minor": 0,
              "model_id": "97d7d03f0d9a45b089de7369980ad320"
            }
          },
          "metadata": {}
        }
      ],
      "source": [
        "from All_functions import *\n",
        "time_flux = pick_your_lightcurves_gui()"
      ]
    },
    {
      "cell_type": "code",
      "execution_count": null,
      "id": "0fff619c-fa5e-4151-88b0-4a3c715154fc",
      "metadata": {
        "scrolled": true,
        "id": "0fff619c-fa5e-4151-88b0-4a3c715154fc"
      },
      "outputs": [],
      "source": [
        "time, flux = time_flux.result\n",
        "flattened_tf = playing_with_detrending_gui(time, flux)"
      ]
    },
    {
      "cell_type": "code",
      "execution_count": null,
      "id": "ff416d93-bb8e-4d69-b28f-b3d8076943ec",
      "metadata": {
        "id": "ff416d93-bb8e-4d69-b28f-b3d8076943ec"
      },
      "outputs": [],
      "source": [
        "flat_time, flat_flux = flattened_tf.result\n",
        "planet_params = finding_all_transits_gui(flat_time, flat_flux)"
      ]
    },
    {
      "cell_type": "code",
      "execution_count": null,
      "id": "e8d48d81-ec18-4d75-8c07-df0220911ed2",
      "metadata": {
        "id": "e8d48d81-ec18-4d75-8c07-df0220911ed2"
      },
      "outputs": [],
      "source": [
        "BLS_t0, BLS_per = showing_BLS_for_planet(flat_time, flat_flux)"
      ]
    },
    {
      "cell_type": "code",
      "execution_count": null,
      "id": "2729e608-945b-4180-a440-8a5849f24df1",
      "metadata": {
        "id": "2729e608-945b-4180-a440-8a5849f24df1"
      },
      "outputs": [],
      "source": [
        "print('Now, lets try to use that period and t0 val to learn more about the transit!')\n",
        "\n",
        "t0, per = planet_params.result\n",
        "model_params = modeling_transits_gui(flat_time, flat_flux, t0, per)"
      ]
    },
    {
      "cell_type": "code",
      "execution_count": null,
      "id": "e980a3a7-7aa6-41ad-9d43-1465be49bac5",
      "metadata": {
        "id": "e980a3a7-7aa6-41ad-9d43-1465be49bac5"
      },
      "outputs": [],
      "source": [
        "print('If the BLS periodic search did not find the same period as you did, try dividing the two values. You might just find that this results in an integer! This is because the periodic search may have found an alias of the real period, but it still found something very close to true!')\n",
        "\n",
        "\n",
        "model_parameters = model_params.result\n",
        "period = model_parameters[1]\n",
        "\n",
        "BLS_per/period"
      ]
    },
    {
      "cell_type": "code",
      "execution_count": null,
      "id": "5eb44b24-6a2a-4dc6-93ce-23391aeaf186",
      "metadata": {
        "id": "5eb44b24-6a2a-4dc6-93ce-23391aeaf186"
      },
      "outputs": [],
      "source": []
    }
  ],
  "metadata": {
    "kernelspec": {
      "display_name": "Python 3 (ipykernel)",
      "language": "python",
      "name": "python3"
    },
    "language_info": {
      "codemirror_mode": {
        "name": "ipython",
        "version": 3
      },
      "file_extension": ".py",
      "mimetype": "text/x-python",
      "name": "python",
      "nbconvert_exporter": "python",
      "pygments_lexer": "ipython3",
      "version": "3.13.5"
    },
    "colab": {
      "provenance": [],
      "include_colab_link": true
    },
    "widgets": {
      "application/vnd.jupyter.widget-state+json": {
        "97d7d03f0d9a45b089de7369980ad320": {
          "model_module": "@jupyter-widgets/controls",
          "model_name": "VBoxModel",
          "model_module_version": "1.5.0",
          "state": {
            "_dom_classes": [
              "widget-interact"
            ],
            "_model_module": "@jupyter-widgets/controls",
            "_model_module_version": "1.5.0",
            "_model_name": "VBoxModel",
            "_view_count": null,
            "_view_module": "@jupyter-widgets/controls",
            "_view_module_version": "1.5.0",
            "_view_name": "VBoxView",
            "box_style": "",
            "children": [
              "IPY_MODEL_823f0758b42d4f13a6f0e37dc4775227",
              "IPY_MODEL_37ef056db5a14f3a86e468cdf1429739"
            ],
            "layout": "IPY_MODEL_4ca02a0ab1484556ba4e1523cafade21"
          }
        },
        "823f0758b42d4f13a6f0e37dc4775227": {
          "model_module": "@jupyter-widgets/controls",
          "model_name": "DropdownModel",
          "model_module_version": "1.5.0",
          "state": {
            "_dom_classes": [],
            "_model_module": "@jupyter-widgets/controls",
            "_model_module_version": "1.5.0",
            "_model_name": "DropdownModel",
            "_options_labels": [
              " ",
              "One",
              "Two",
              "Three"
            ],
            "_view_count": null,
            "_view_module": "@jupyter-widgets/controls",
            "_view_module_version": "1.5.0",
            "_view_name": "DropdownView",
            "description": "Select your light curve adventure:",
            "description_tooltip": null,
            "disabled": false,
            "index": 0,
            "layout": "IPY_MODEL_489aa06ecdf945e9b0c731943c6e0a5d",
            "style": "IPY_MODEL_19c18e3eaab94f63bee08961bfbb5435"
          }
        },
        "37ef056db5a14f3a86e468cdf1429739": {
          "model_module": "@jupyter-widgets/output",
          "model_name": "OutputModel",
          "model_module_version": "1.0.0",
          "state": {
            "_dom_classes": [],
            "_model_module": "@jupyter-widgets/output",
            "_model_module_version": "1.0.0",
            "_model_name": "OutputModel",
            "_view_count": null,
            "_view_module": "@jupyter-widgets/output",
            "_view_module_version": "1.0.0",
            "_view_name": "OutputView",
            "layout": "IPY_MODEL_d81b199b8dd8425e8881a188ec428406",
            "msg_id": "",
            "outputs": []
          }
        },
        "4ca02a0ab1484556ba4e1523cafade21": {
          "model_module": "@jupyter-widgets/base",
          "model_name": "LayoutModel",
          "model_module_version": "1.2.0",
          "state": {
            "_model_module": "@jupyter-widgets/base",
            "_model_module_version": "1.2.0",
            "_model_name": "LayoutModel",
            "_view_count": null,
            "_view_module": "@jupyter-widgets/base",
            "_view_module_version": "1.2.0",
            "_view_name": "LayoutView",
            "align_content": null,
            "align_items": null,
            "align_self": null,
            "border": null,
            "bottom": null,
            "display": null,
            "flex": null,
            "flex_flow": null,
            "grid_area": null,
            "grid_auto_columns": null,
            "grid_auto_flow": null,
            "grid_auto_rows": null,
            "grid_column": null,
            "grid_gap": null,
            "grid_row": null,
            "grid_template_areas": null,
            "grid_template_columns": null,
            "grid_template_rows": null,
            "height": null,
            "justify_content": null,
            "justify_items": null,
            "left": null,
            "margin": null,
            "max_height": null,
            "max_width": null,
            "min_height": null,
            "min_width": null,
            "object_fit": null,
            "object_position": null,
            "order": null,
            "overflow": null,
            "overflow_x": null,
            "overflow_y": null,
            "padding": null,
            "right": null,
            "top": null,
            "visibility": null,
            "width": null
          }
        },
        "489aa06ecdf945e9b0c731943c6e0a5d": {
          "model_module": "@jupyter-widgets/base",
          "model_name": "LayoutModel",
          "model_module_version": "1.2.0",
          "state": {
            "_model_module": "@jupyter-widgets/base",
            "_model_module_version": "1.2.0",
            "_model_name": "LayoutModel",
            "_view_count": null,
            "_view_module": "@jupyter-widgets/base",
            "_view_module_version": "1.2.0",
            "_view_name": "LayoutView",
            "align_content": null,
            "align_items": null,
            "align_self": null,
            "border": null,
            "bottom": null,
            "display": null,
            "flex": null,
            "flex_flow": null,
            "grid_area": null,
            "grid_auto_columns": null,
            "grid_auto_flow": null,
            "grid_auto_rows": null,
            "grid_column": null,
            "grid_gap": null,
            "grid_row": null,
            "grid_template_areas": null,
            "grid_template_columns": null,
            "grid_template_rows": null,
            "height": null,
            "justify_content": null,
            "justify_items": null,
            "left": null,
            "margin": null,
            "max_height": null,
            "max_width": null,
            "min_height": null,
            "min_width": null,
            "object_fit": null,
            "object_position": null,
            "order": null,
            "overflow": null,
            "overflow_x": null,
            "overflow_y": null,
            "padding": null,
            "right": null,
            "top": null,
            "visibility": null,
            "width": null
          }
        },
        "19c18e3eaab94f63bee08961bfbb5435": {
          "model_module": "@jupyter-widgets/controls",
          "model_name": "DescriptionStyleModel",
          "model_module_version": "1.5.0",
          "state": {
            "_model_module": "@jupyter-widgets/controls",
            "_model_module_version": "1.5.0",
            "_model_name": "DescriptionStyleModel",
            "_view_count": null,
            "_view_module": "@jupyter-widgets/base",
            "_view_module_version": "1.2.0",
            "_view_name": "StyleView",
            "description_width": ""
          }
        },
        "d81b199b8dd8425e8881a188ec428406": {
          "model_module": "@jupyter-widgets/base",
          "model_name": "LayoutModel",
          "model_module_version": "1.2.0",
          "state": {
            "_model_module": "@jupyter-widgets/base",
            "_model_module_version": "1.2.0",
            "_model_name": "LayoutModel",
            "_view_count": null,
            "_view_module": "@jupyter-widgets/base",
            "_view_module_version": "1.2.0",
            "_view_name": "LayoutView",
            "align_content": null,
            "align_items": null,
            "align_self": null,
            "border": null,
            "bottom": null,
            "display": null,
            "flex": null,
            "flex_flow": null,
            "grid_area": null,
            "grid_auto_columns": null,
            "grid_auto_flow": null,
            "grid_auto_rows": null,
            "grid_column": null,
            "grid_gap": null,
            "grid_row": null,
            "grid_template_areas": null,
            "grid_template_columns": null,
            "grid_template_rows": null,
            "height": null,
            "justify_content": null,
            "justify_items": null,
            "left": null,
            "margin": null,
            "max_height": null,
            "max_width": null,
            "min_height": null,
            "min_width": null,
            "object_fit": null,
            "object_position": null,
            "order": null,
            "overflow": null,
            "overflow_x": null,
            "overflow_y": null,
            "padding": null,
            "right": null,
            "top": null,
            "visibility": null,
            "width": null
          }
        }
      }
    }
  },
  "nbformat": 4,
  "nbformat_minor": 5
}
